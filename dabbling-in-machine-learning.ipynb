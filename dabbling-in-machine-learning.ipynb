{
 "cells": [
  {
   "cell_type": "markdown",
   "id": "05ec2135",
   "metadata": {
    "papermill": {
     "duration": 0.015918,
     "end_time": "2022-08-11T02:31:06.760307",
     "exception": false,
     "start_time": "2022-08-11T02:31:06.744389",
     "status": "completed"
    },
    "tags": []
   },
   "source": [
    "Testing out ml models inspired by kaggle intro to ml course. Specifically, random forests and decision trees."
   ]
  },
  {
   "cell_type": "code",
   "execution_count": 1,
   "id": "140a1ad3",
   "metadata": {
    "_cell_guid": "b1076dfc-b9ad-4769-8c92-a6c4dae69d19",
    "_uuid": "8f2839f25d086af736a60e9eeb907d3b93b6e0e5",
    "execution": {
     "iopub.execute_input": "2022-08-11T02:31:06.790863Z",
     "iopub.status.busy": "2022-08-11T02:31:06.790143Z",
     "iopub.status.idle": "2022-08-11T02:31:06.841216Z",
     "shell.execute_reply": "2022-08-11T02:31:06.840091Z"
    },
    "papermill": {
     "duration": 0.07038,
     "end_time": "2022-08-11T02:31:06.845083",
     "exception": false,
     "start_time": "2022-08-11T02:31:06.774703",
     "status": "completed"
    },
    "tags": []
   },
   "outputs": [
    {
     "name": "stdout",
     "output_type": "stream",
     "text": [
      "/kaggle/input/housing-prices-competition-for-kaggle-learn-users/train.csv\n",
      "/kaggle/input/housing-prices-competition-for-kaggle-learn-users/test.csv\n",
      "/kaggle/input/home-data-for-ml-course/train.csv\n",
      "/kaggle/input/homedataformlcourse/train.csv\n",
      "/kaggle/input/homedataformlcourse/test.csv\n",
      "/kaggle/input/melbourne-housing-snapshot/melb_data.csv\n",
      "/kaggle/input/mobile-price-classification/train.csv\n",
      "/kaggle/input/mobile-price-classification/test.csv\n"
     ]
    }
   ],
   "source": [
    "# This Python 3 environment comes with many helpful analytics libraries installed\n",
    "# It is defined by the kaggle/python Docker image: https://github.com/kaggle/docker-python\n",
    "# For example, here's several helpful packages to load\n",
    "\n",
    "import numpy as np # linear algebra\n",
    "import pandas as pd # data processing, CSV file I/O (e.g. pd.read_csv)\n",
    "\n",
    "# Input data files are available in the read-only \"../input/\" directory\n",
    "# For example, running this (by clicking run or pressing Shift+Enter) will list all files under the input directory\n",
    "\n",
    "import os\n",
    "for dirname, _, filenames in os.walk('/kaggle/input'):\n",
    "    for filename in filenames:\n",
    "        print(os.path.join(dirname, filename))\n",
    "\n",
    "# You can write up to 20GB to the current directory (/kaggle/working/) that gets preserved as output when you create a version using \"Save & Run All\" \n",
    "# You can also write temporary files to /kaggle/temp/, but they won't be saved outside of the current session"
   ]
  },
  {
   "cell_type": "markdown",
   "id": "e03b902e",
   "metadata": {
    "papermill": {
     "duration": 0.014211,
     "end_time": "2022-08-11T02:31:06.875648",
     "exception": false,
     "start_time": "2022-08-11T02:31:06.861437",
     "status": "completed"
    },
    "tags": []
   },
   "source": [
    "## predicting house prices\n",
    "\n",
    "data: snapshot of Tony Pino's Melbourne Housing Dataset"
   ]
  },
  {
   "cell_type": "code",
   "execution_count": 2,
   "id": "65b6a8a5",
   "metadata": {
    "execution": {
     "iopub.execute_input": "2022-08-11T02:31:06.909158Z",
     "iopub.status.busy": "2022-08-11T02:31:06.908243Z",
     "iopub.status.idle": "2022-08-11T02:31:07.137555Z",
     "shell.execute_reply": "2022-08-11T02:31:07.135924Z"
    },
    "papermill": {
     "duration": 0.250593,
     "end_time": "2022-08-11T02:31:07.141330",
     "exception": false,
     "start_time": "2022-08-11T02:31:06.890737",
     "status": "completed"
    },
    "tags": []
   },
   "outputs": [
    {
     "data": {
      "text/html": [
       "<div>\n",
       "<style scoped>\n",
       "    .dataframe tbody tr th:only-of-type {\n",
       "        vertical-align: middle;\n",
       "    }\n",
       "\n",
       "    .dataframe tbody tr th {\n",
       "        vertical-align: top;\n",
       "    }\n",
       "\n",
       "    .dataframe thead th {\n",
       "        text-align: right;\n",
       "    }\n",
       "</style>\n",
       "<table border=\"1\" class=\"dataframe\">\n",
       "  <thead>\n",
       "    <tr style=\"text-align: right;\">\n",
       "      <th></th>\n",
       "      <th>Rooms</th>\n",
       "      <th>Price</th>\n",
       "      <th>Distance</th>\n",
       "      <th>Postcode</th>\n",
       "      <th>Bedroom2</th>\n",
       "      <th>Bathroom</th>\n",
       "      <th>Car</th>\n",
       "      <th>Landsize</th>\n",
       "      <th>BuildingArea</th>\n",
       "      <th>YearBuilt</th>\n",
       "      <th>Lattitude</th>\n",
       "      <th>Longtitude</th>\n",
       "      <th>Propertycount</th>\n",
       "    </tr>\n",
       "  </thead>\n",
       "  <tbody>\n",
       "    <tr>\n",
       "      <th>count</th>\n",
       "      <td>13580.000000</td>\n",
       "      <td>1.358000e+04</td>\n",
       "      <td>13580.000000</td>\n",
       "      <td>13580.000000</td>\n",
       "      <td>13580.000000</td>\n",
       "      <td>13580.000000</td>\n",
       "      <td>13518.000000</td>\n",
       "      <td>13580.000000</td>\n",
       "      <td>7130.000000</td>\n",
       "      <td>8205.000000</td>\n",
       "      <td>13580.000000</td>\n",
       "      <td>13580.000000</td>\n",
       "      <td>13580.000000</td>\n",
       "    </tr>\n",
       "    <tr>\n",
       "      <th>mean</th>\n",
       "      <td>2.937997</td>\n",
       "      <td>1.075684e+06</td>\n",
       "      <td>10.137776</td>\n",
       "      <td>3105.301915</td>\n",
       "      <td>2.914728</td>\n",
       "      <td>1.534242</td>\n",
       "      <td>1.610075</td>\n",
       "      <td>558.416127</td>\n",
       "      <td>151.967650</td>\n",
       "      <td>1964.684217</td>\n",
       "      <td>-37.809203</td>\n",
       "      <td>144.995216</td>\n",
       "      <td>7454.417378</td>\n",
       "    </tr>\n",
       "    <tr>\n",
       "      <th>std</th>\n",
       "      <td>0.955748</td>\n",
       "      <td>6.393107e+05</td>\n",
       "      <td>5.868725</td>\n",
       "      <td>90.676964</td>\n",
       "      <td>0.965921</td>\n",
       "      <td>0.691712</td>\n",
       "      <td>0.962634</td>\n",
       "      <td>3990.669241</td>\n",
       "      <td>541.014538</td>\n",
       "      <td>37.273762</td>\n",
       "      <td>0.079260</td>\n",
       "      <td>0.103916</td>\n",
       "      <td>4378.581772</td>\n",
       "    </tr>\n",
       "    <tr>\n",
       "      <th>min</th>\n",
       "      <td>1.000000</td>\n",
       "      <td>8.500000e+04</td>\n",
       "      <td>0.000000</td>\n",
       "      <td>3000.000000</td>\n",
       "      <td>0.000000</td>\n",
       "      <td>0.000000</td>\n",
       "      <td>0.000000</td>\n",
       "      <td>0.000000</td>\n",
       "      <td>0.000000</td>\n",
       "      <td>1196.000000</td>\n",
       "      <td>-38.182550</td>\n",
       "      <td>144.431810</td>\n",
       "      <td>249.000000</td>\n",
       "    </tr>\n",
       "    <tr>\n",
       "      <th>25%</th>\n",
       "      <td>2.000000</td>\n",
       "      <td>6.500000e+05</td>\n",
       "      <td>6.100000</td>\n",
       "      <td>3044.000000</td>\n",
       "      <td>2.000000</td>\n",
       "      <td>1.000000</td>\n",
       "      <td>1.000000</td>\n",
       "      <td>177.000000</td>\n",
       "      <td>93.000000</td>\n",
       "      <td>1940.000000</td>\n",
       "      <td>-37.856822</td>\n",
       "      <td>144.929600</td>\n",
       "      <td>4380.000000</td>\n",
       "    </tr>\n",
       "    <tr>\n",
       "      <th>50%</th>\n",
       "      <td>3.000000</td>\n",
       "      <td>9.030000e+05</td>\n",
       "      <td>9.200000</td>\n",
       "      <td>3084.000000</td>\n",
       "      <td>3.000000</td>\n",
       "      <td>1.000000</td>\n",
       "      <td>2.000000</td>\n",
       "      <td>440.000000</td>\n",
       "      <td>126.000000</td>\n",
       "      <td>1970.000000</td>\n",
       "      <td>-37.802355</td>\n",
       "      <td>145.000100</td>\n",
       "      <td>6555.000000</td>\n",
       "    </tr>\n",
       "    <tr>\n",
       "      <th>75%</th>\n",
       "      <td>3.000000</td>\n",
       "      <td>1.330000e+06</td>\n",
       "      <td>13.000000</td>\n",
       "      <td>3148.000000</td>\n",
       "      <td>3.000000</td>\n",
       "      <td>2.000000</td>\n",
       "      <td>2.000000</td>\n",
       "      <td>651.000000</td>\n",
       "      <td>174.000000</td>\n",
       "      <td>1999.000000</td>\n",
       "      <td>-37.756400</td>\n",
       "      <td>145.058305</td>\n",
       "      <td>10331.000000</td>\n",
       "    </tr>\n",
       "    <tr>\n",
       "      <th>max</th>\n",
       "      <td>10.000000</td>\n",
       "      <td>9.000000e+06</td>\n",
       "      <td>48.100000</td>\n",
       "      <td>3977.000000</td>\n",
       "      <td>20.000000</td>\n",
       "      <td>8.000000</td>\n",
       "      <td>10.000000</td>\n",
       "      <td>433014.000000</td>\n",
       "      <td>44515.000000</td>\n",
       "      <td>2018.000000</td>\n",
       "      <td>-37.408530</td>\n",
       "      <td>145.526350</td>\n",
       "      <td>21650.000000</td>\n",
       "    </tr>\n",
       "  </tbody>\n",
       "</table>\n",
       "</div>"
      ],
      "text/plain": [
       "              Rooms         Price      Distance      Postcode      Bedroom2  \\\n",
       "count  13580.000000  1.358000e+04  13580.000000  13580.000000  13580.000000   \n",
       "mean       2.937997  1.075684e+06     10.137776   3105.301915      2.914728   \n",
       "std        0.955748  6.393107e+05      5.868725     90.676964      0.965921   \n",
       "min        1.000000  8.500000e+04      0.000000   3000.000000      0.000000   \n",
       "25%        2.000000  6.500000e+05      6.100000   3044.000000      2.000000   \n",
       "50%        3.000000  9.030000e+05      9.200000   3084.000000      3.000000   \n",
       "75%        3.000000  1.330000e+06     13.000000   3148.000000      3.000000   \n",
       "max       10.000000  9.000000e+06     48.100000   3977.000000     20.000000   \n",
       "\n",
       "           Bathroom           Car       Landsize  BuildingArea    YearBuilt  \\\n",
       "count  13580.000000  13518.000000   13580.000000   7130.000000  8205.000000   \n",
       "mean       1.534242      1.610075     558.416127    151.967650  1964.684217   \n",
       "std        0.691712      0.962634    3990.669241    541.014538    37.273762   \n",
       "min        0.000000      0.000000       0.000000      0.000000  1196.000000   \n",
       "25%        1.000000      1.000000     177.000000     93.000000  1940.000000   \n",
       "50%        1.000000      2.000000     440.000000    126.000000  1970.000000   \n",
       "75%        2.000000      2.000000     651.000000    174.000000  1999.000000   \n",
       "max        8.000000     10.000000  433014.000000  44515.000000  2018.000000   \n",
       "\n",
       "          Lattitude    Longtitude  Propertycount  \n",
       "count  13580.000000  13580.000000   13580.000000  \n",
       "mean     -37.809203    144.995216    7454.417378  \n",
       "std        0.079260      0.103916    4378.581772  \n",
       "min      -38.182550    144.431810     249.000000  \n",
       "25%      -37.856822    144.929600    4380.000000  \n",
       "50%      -37.802355    145.000100    6555.000000  \n",
       "75%      -37.756400    145.058305   10331.000000  \n",
       "max      -37.408530    145.526350   21650.000000  "
      ]
     },
     "execution_count": 2,
     "metadata": {},
     "output_type": "execute_result"
    }
   ],
   "source": [
    "# save filepath to variable for easier access\n",
    "melbourne_file_path = '../input/melbourne-housing-snapshot/melb_data.csv'\n",
    "# read the data and store data in DataFrame titled melbourne_data\n",
    "melbourne_data = pd.read_csv(melbourne_file_path) \n",
    "# print a summary of the data in Melbourne data\n",
    "melbourne_data.describe()"
   ]
  },
  {
   "cell_type": "markdown",
   "id": "736bd5db",
   "metadata": {
    "papermill": {
     "duration": 0.015753,
     "end_time": "2022-08-11T02:31:07.172358",
     "exception": false,
     "start_time": "2022-08-11T02:31:07.156605",
     "status": "completed"
    },
    "tags": []
   },
   "source": [
    "and the data from the kaggle housing competition:"
   ]
  },
  {
   "cell_type": "code",
   "execution_count": 3,
   "id": "045afedf",
   "metadata": {
    "execution": {
     "iopub.execute_input": "2022-08-11T02:31:07.209293Z",
     "iopub.status.busy": "2022-08-11T02:31:07.207797Z",
     "iopub.status.idle": "2022-08-11T02:31:07.246294Z",
     "shell.execute_reply": "2022-08-11T02:31:07.244933Z"
    },
    "papermill": {
     "duration": 0.062139,
     "end_time": "2022-08-11T02:31:07.249090",
     "exception": false,
     "start_time": "2022-08-11T02:31:07.186951",
     "status": "completed"
    },
    "tags": []
   },
   "outputs": [],
   "source": [
    "# Path of the file to read\n",
    "iowa_file_path = '../input/home-data-for-ml-course/train.csv'\n",
    "\n",
    "# Fill in the line below to read the file into a variable home_data\n",
    "home_data = pd.read_csv(iowa_file_path)"
   ]
  },
  {
   "cell_type": "code",
   "execution_count": 4,
   "id": "193b60f8",
   "metadata": {
    "execution": {
     "iopub.execute_input": "2022-08-11T02:31:07.281411Z",
     "iopub.status.busy": "2022-08-11T02:31:07.280866Z",
     "iopub.status.idle": "2022-08-11T02:31:07.399707Z",
     "shell.execute_reply": "2022-08-11T02:31:07.398090Z"
    },
    "papermill": {
     "duration": 0.139596,
     "end_time": "2022-08-11T02:31:07.402915",
     "exception": false,
     "start_time": "2022-08-11T02:31:07.263319",
     "status": "completed"
    },
    "tags": []
   },
   "outputs": [
    {
     "data": {
      "text/html": [
       "<div>\n",
       "<style scoped>\n",
       "    .dataframe tbody tr th:only-of-type {\n",
       "        vertical-align: middle;\n",
       "    }\n",
       "\n",
       "    .dataframe tbody tr th {\n",
       "        vertical-align: top;\n",
       "    }\n",
       "\n",
       "    .dataframe thead th {\n",
       "        text-align: right;\n",
       "    }\n",
       "</style>\n",
       "<table border=\"1\" class=\"dataframe\">\n",
       "  <thead>\n",
       "    <tr style=\"text-align: right;\">\n",
       "      <th></th>\n",
       "      <th>Id</th>\n",
       "      <th>MSSubClass</th>\n",
       "      <th>LotFrontage</th>\n",
       "      <th>LotArea</th>\n",
       "      <th>OverallQual</th>\n",
       "      <th>OverallCond</th>\n",
       "      <th>YearBuilt</th>\n",
       "      <th>YearRemodAdd</th>\n",
       "      <th>MasVnrArea</th>\n",
       "      <th>BsmtFinSF1</th>\n",
       "      <th>...</th>\n",
       "      <th>WoodDeckSF</th>\n",
       "      <th>OpenPorchSF</th>\n",
       "      <th>EnclosedPorch</th>\n",
       "      <th>3SsnPorch</th>\n",
       "      <th>ScreenPorch</th>\n",
       "      <th>PoolArea</th>\n",
       "      <th>MiscVal</th>\n",
       "      <th>MoSold</th>\n",
       "      <th>YrSold</th>\n",
       "      <th>SalePrice</th>\n",
       "    </tr>\n",
       "  </thead>\n",
       "  <tbody>\n",
       "    <tr>\n",
       "      <th>count</th>\n",
       "      <td>1460.000000</td>\n",
       "      <td>1460.000000</td>\n",
       "      <td>1201.000000</td>\n",
       "      <td>1460.000000</td>\n",
       "      <td>1460.000000</td>\n",
       "      <td>1460.000000</td>\n",
       "      <td>1460.000000</td>\n",
       "      <td>1460.000000</td>\n",
       "      <td>1452.000000</td>\n",
       "      <td>1460.000000</td>\n",
       "      <td>...</td>\n",
       "      <td>1460.000000</td>\n",
       "      <td>1460.000000</td>\n",
       "      <td>1460.000000</td>\n",
       "      <td>1460.000000</td>\n",
       "      <td>1460.000000</td>\n",
       "      <td>1460.000000</td>\n",
       "      <td>1460.000000</td>\n",
       "      <td>1460.000000</td>\n",
       "      <td>1460.000000</td>\n",
       "      <td>1460.000000</td>\n",
       "    </tr>\n",
       "    <tr>\n",
       "      <th>mean</th>\n",
       "      <td>730.500000</td>\n",
       "      <td>56.897260</td>\n",
       "      <td>70.049958</td>\n",
       "      <td>10516.828082</td>\n",
       "      <td>6.099315</td>\n",
       "      <td>5.575342</td>\n",
       "      <td>1971.267808</td>\n",
       "      <td>1984.865753</td>\n",
       "      <td>103.685262</td>\n",
       "      <td>443.639726</td>\n",
       "      <td>...</td>\n",
       "      <td>94.244521</td>\n",
       "      <td>46.660274</td>\n",
       "      <td>21.954110</td>\n",
       "      <td>3.409589</td>\n",
       "      <td>15.060959</td>\n",
       "      <td>2.758904</td>\n",
       "      <td>43.489041</td>\n",
       "      <td>6.321918</td>\n",
       "      <td>2007.815753</td>\n",
       "      <td>180921.195890</td>\n",
       "    </tr>\n",
       "    <tr>\n",
       "      <th>std</th>\n",
       "      <td>421.610009</td>\n",
       "      <td>42.300571</td>\n",
       "      <td>24.284752</td>\n",
       "      <td>9981.264932</td>\n",
       "      <td>1.382997</td>\n",
       "      <td>1.112799</td>\n",
       "      <td>30.202904</td>\n",
       "      <td>20.645407</td>\n",
       "      <td>181.066207</td>\n",
       "      <td>456.098091</td>\n",
       "      <td>...</td>\n",
       "      <td>125.338794</td>\n",
       "      <td>66.256028</td>\n",
       "      <td>61.119149</td>\n",
       "      <td>29.317331</td>\n",
       "      <td>55.757415</td>\n",
       "      <td>40.177307</td>\n",
       "      <td>496.123024</td>\n",
       "      <td>2.703626</td>\n",
       "      <td>1.328095</td>\n",
       "      <td>79442.502883</td>\n",
       "    </tr>\n",
       "    <tr>\n",
       "      <th>min</th>\n",
       "      <td>1.000000</td>\n",
       "      <td>20.000000</td>\n",
       "      <td>21.000000</td>\n",
       "      <td>1300.000000</td>\n",
       "      <td>1.000000</td>\n",
       "      <td>1.000000</td>\n",
       "      <td>1872.000000</td>\n",
       "      <td>1950.000000</td>\n",
       "      <td>0.000000</td>\n",
       "      <td>0.000000</td>\n",
       "      <td>...</td>\n",
       "      <td>0.000000</td>\n",
       "      <td>0.000000</td>\n",
       "      <td>0.000000</td>\n",
       "      <td>0.000000</td>\n",
       "      <td>0.000000</td>\n",
       "      <td>0.000000</td>\n",
       "      <td>0.000000</td>\n",
       "      <td>1.000000</td>\n",
       "      <td>2006.000000</td>\n",
       "      <td>34900.000000</td>\n",
       "    </tr>\n",
       "    <tr>\n",
       "      <th>25%</th>\n",
       "      <td>365.750000</td>\n",
       "      <td>20.000000</td>\n",
       "      <td>59.000000</td>\n",
       "      <td>7553.500000</td>\n",
       "      <td>5.000000</td>\n",
       "      <td>5.000000</td>\n",
       "      <td>1954.000000</td>\n",
       "      <td>1967.000000</td>\n",
       "      <td>0.000000</td>\n",
       "      <td>0.000000</td>\n",
       "      <td>...</td>\n",
       "      <td>0.000000</td>\n",
       "      <td>0.000000</td>\n",
       "      <td>0.000000</td>\n",
       "      <td>0.000000</td>\n",
       "      <td>0.000000</td>\n",
       "      <td>0.000000</td>\n",
       "      <td>0.000000</td>\n",
       "      <td>5.000000</td>\n",
       "      <td>2007.000000</td>\n",
       "      <td>129975.000000</td>\n",
       "    </tr>\n",
       "    <tr>\n",
       "      <th>50%</th>\n",
       "      <td>730.500000</td>\n",
       "      <td>50.000000</td>\n",
       "      <td>69.000000</td>\n",
       "      <td>9478.500000</td>\n",
       "      <td>6.000000</td>\n",
       "      <td>5.000000</td>\n",
       "      <td>1973.000000</td>\n",
       "      <td>1994.000000</td>\n",
       "      <td>0.000000</td>\n",
       "      <td>383.500000</td>\n",
       "      <td>...</td>\n",
       "      <td>0.000000</td>\n",
       "      <td>25.000000</td>\n",
       "      <td>0.000000</td>\n",
       "      <td>0.000000</td>\n",
       "      <td>0.000000</td>\n",
       "      <td>0.000000</td>\n",
       "      <td>0.000000</td>\n",
       "      <td>6.000000</td>\n",
       "      <td>2008.000000</td>\n",
       "      <td>163000.000000</td>\n",
       "    </tr>\n",
       "    <tr>\n",
       "      <th>75%</th>\n",
       "      <td>1095.250000</td>\n",
       "      <td>70.000000</td>\n",
       "      <td>80.000000</td>\n",
       "      <td>11601.500000</td>\n",
       "      <td>7.000000</td>\n",
       "      <td>6.000000</td>\n",
       "      <td>2000.000000</td>\n",
       "      <td>2004.000000</td>\n",
       "      <td>166.000000</td>\n",
       "      <td>712.250000</td>\n",
       "      <td>...</td>\n",
       "      <td>168.000000</td>\n",
       "      <td>68.000000</td>\n",
       "      <td>0.000000</td>\n",
       "      <td>0.000000</td>\n",
       "      <td>0.000000</td>\n",
       "      <td>0.000000</td>\n",
       "      <td>0.000000</td>\n",
       "      <td>8.000000</td>\n",
       "      <td>2009.000000</td>\n",
       "      <td>214000.000000</td>\n",
       "    </tr>\n",
       "    <tr>\n",
       "      <th>max</th>\n",
       "      <td>1460.000000</td>\n",
       "      <td>190.000000</td>\n",
       "      <td>313.000000</td>\n",
       "      <td>215245.000000</td>\n",
       "      <td>10.000000</td>\n",
       "      <td>9.000000</td>\n",
       "      <td>2010.000000</td>\n",
       "      <td>2010.000000</td>\n",
       "      <td>1600.000000</td>\n",
       "      <td>5644.000000</td>\n",
       "      <td>...</td>\n",
       "      <td>857.000000</td>\n",
       "      <td>547.000000</td>\n",
       "      <td>552.000000</td>\n",
       "      <td>508.000000</td>\n",
       "      <td>480.000000</td>\n",
       "      <td>738.000000</td>\n",
       "      <td>15500.000000</td>\n",
       "      <td>12.000000</td>\n",
       "      <td>2010.000000</td>\n",
       "      <td>755000.000000</td>\n",
       "    </tr>\n",
       "  </tbody>\n",
       "</table>\n",
       "<p>8 rows × 38 columns</p>\n",
       "</div>"
      ],
      "text/plain": [
       "                Id   MSSubClass  LotFrontage        LotArea  OverallQual  \\\n",
       "count  1460.000000  1460.000000  1201.000000    1460.000000  1460.000000   \n",
       "mean    730.500000    56.897260    70.049958   10516.828082     6.099315   \n",
       "std     421.610009    42.300571    24.284752    9981.264932     1.382997   \n",
       "min       1.000000    20.000000    21.000000    1300.000000     1.000000   \n",
       "25%     365.750000    20.000000    59.000000    7553.500000     5.000000   \n",
       "50%     730.500000    50.000000    69.000000    9478.500000     6.000000   \n",
       "75%    1095.250000    70.000000    80.000000   11601.500000     7.000000   \n",
       "max    1460.000000   190.000000   313.000000  215245.000000    10.000000   \n",
       "\n",
       "       OverallCond    YearBuilt  YearRemodAdd   MasVnrArea   BsmtFinSF1  ...  \\\n",
       "count  1460.000000  1460.000000   1460.000000  1452.000000  1460.000000  ...   \n",
       "mean      5.575342  1971.267808   1984.865753   103.685262   443.639726  ...   \n",
       "std       1.112799    30.202904     20.645407   181.066207   456.098091  ...   \n",
       "min       1.000000  1872.000000   1950.000000     0.000000     0.000000  ...   \n",
       "25%       5.000000  1954.000000   1967.000000     0.000000     0.000000  ...   \n",
       "50%       5.000000  1973.000000   1994.000000     0.000000   383.500000  ...   \n",
       "75%       6.000000  2000.000000   2004.000000   166.000000   712.250000  ...   \n",
       "max       9.000000  2010.000000   2010.000000  1600.000000  5644.000000  ...   \n",
       "\n",
       "        WoodDeckSF  OpenPorchSF  EnclosedPorch    3SsnPorch  ScreenPorch  \\\n",
       "count  1460.000000  1460.000000    1460.000000  1460.000000  1460.000000   \n",
       "mean     94.244521    46.660274      21.954110     3.409589    15.060959   \n",
       "std     125.338794    66.256028      61.119149    29.317331    55.757415   \n",
       "min       0.000000     0.000000       0.000000     0.000000     0.000000   \n",
       "25%       0.000000     0.000000       0.000000     0.000000     0.000000   \n",
       "50%       0.000000    25.000000       0.000000     0.000000     0.000000   \n",
       "75%     168.000000    68.000000       0.000000     0.000000     0.000000   \n",
       "max     857.000000   547.000000     552.000000   508.000000   480.000000   \n",
       "\n",
       "          PoolArea       MiscVal       MoSold       YrSold      SalePrice  \n",
       "count  1460.000000   1460.000000  1460.000000  1460.000000    1460.000000  \n",
       "mean      2.758904     43.489041     6.321918  2007.815753  180921.195890  \n",
       "std      40.177307    496.123024     2.703626     1.328095   79442.502883  \n",
       "min       0.000000      0.000000     1.000000  2006.000000   34900.000000  \n",
       "25%       0.000000      0.000000     5.000000  2007.000000  129975.000000  \n",
       "50%       0.000000      0.000000     6.000000  2008.000000  163000.000000  \n",
       "75%       0.000000      0.000000     8.000000  2009.000000  214000.000000  \n",
       "max     738.000000  15500.000000    12.000000  2010.000000  755000.000000  \n",
       "\n",
       "[8 rows x 38 columns]"
      ]
     },
     "execution_count": 4,
     "metadata": {},
     "output_type": "execute_result"
    }
   ],
   "source": [
    "home_data.describe()"
   ]
  },
  {
   "cell_type": "code",
   "execution_count": 5,
   "id": "01f0015d",
   "metadata": {
    "execution": {
     "iopub.execute_input": "2022-08-11T02:31:07.436132Z",
     "iopub.status.busy": "2022-08-11T02:31:07.435643Z",
     "iopub.status.idle": "2022-08-11T02:31:07.443876Z",
     "shell.execute_reply": "2022-08-11T02:31:07.442719Z"
    },
    "papermill": {
     "duration": 0.028093,
     "end_time": "2022-08-11T02:31:07.446991",
     "exception": false,
     "start_time": "2022-08-11T02:31:07.418898",
     "status": "completed"
    },
    "tags": []
   },
   "outputs": [
    {
     "data": {
      "text/plain": [
       "Index(['Suburb', 'Address', 'Rooms', 'Type', 'Price', 'Method', 'SellerG',\n",
       "       'Date', 'Distance', 'Postcode', 'Bedroom2', 'Bathroom', 'Car',\n",
       "       'Landsize', 'BuildingArea', 'YearBuilt', 'CouncilArea', 'Lattitude',\n",
       "       'Longtitude', 'Regionname', 'Propertycount'],\n",
       "      dtype='object')"
      ]
     },
     "execution_count": 5,
     "metadata": {},
     "output_type": "execute_result"
    }
   ],
   "source": [
    "melbourne_data.columns"
   ]
  },
  {
   "cell_type": "markdown",
   "id": "56fef406",
   "metadata": {
    "papermill": {
     "duration": 0.014025,
     "end_time": "2022-08-11T02:31:07.475693",
     "exception": false,
     "start_time": "2022-08-11T02:31:07.461668",
     "status": "completed"
    },
    "tags": []
   },
   "source": [
    "## drop missing data"
   ]
  },
  {
   "cell_type": "code",
   "execution_count": 6,
   "id": "9a62415d",
   "metadata": {
    "execution": {
     "iopub.execute_input": "2022-08-11T02:31:07.508166Z",
     "iopub.status.busy": "2022-08-11T02:31:07.506891Z",
     "iopub.status.idle": "2022-08-11T02:31:07.523778Z",
     "shell.execute_reply": "2022-08-11T02:31:07.522572Z"
    },
    "papermill": {
     "duration": 0.036113,
     "end_time": "2022-08-11T02:31:07.527021",
     "exception": false,
     "start_time": "2022-08-11T02:31:07.490908",
     "status": "completed"
    },
    "tags": []
   },
   "outputs": [],
   "source": [
    "melbourne_data = melbourne_data.dropna(axis=0)"
   ]
  },
  {
   "cell_type": "markdown",
   "id": "6c0e5bea",
   "metadata": {
    "papermill": {
     "duration": 0.014377,
     "end_time": "2022-08-11T02:31:07.555798",
     "exception": false,
     "start_time": "2022-08-11T02:31:07.541421",
     "status": "completed"
    },
    "tags": []
   },
   "source": [
    "## select prediction target"
   ]
  },
  {
   "cell_type": "code",
   "execution_count": 7,
   "id": "521a95f9",
   "metadata": {
    "execution": {
     "iopub.execute_input": "2022-08-11T02:31:07.586358Z",
     "iopub.status.busy": "2022-08-11T02:31:07.585926Z",
     "iopub.status.idle": "2022-08-11T02:31:07.591856Z",
     "shell.execute_reply": "2022-08-11T02:31:07.590878Z"
    },
    "papermill": {
     "duration": 0.024339,
     "end_time": "2022-08-11T02:31:07.594467",
     "exception": false,
     "start_time": "2022-08-11T02:31:07.570128",
     "status": "completed"
    },
    "tags": []
   },
   "outputs": [],
   "source": [
    "mel_y = melbourne_data.Price"
   ]
  },
  {
   "cell_type": "markdown",
   "id": "be3e249a",
   "metadata": {
    "papermill": {
     "duration": 0.014746,
     "end_time": "2022-08-11T02:31:07.623552",
     "exception": false,
     "start_time": "2022-08-11T02:31:07.608806",
     "status": "completed"
    },
    "tags": []
   },
   "source": [
    "## choose features"
   ]
  },
  {
   "cell_type": "code",
   "execution_count": 8,
   "id": "04b7ff4a",
   "metadata": {
    "execution": {
     "iopub.execute_input": "2022-08-11T02:31:07.656772Z",
     "iopub.status.busy": "2022-08-11T02:31:07.656037Z",
     "iopub.status.idle": "2022-08-11T02:31:07.689463Z",
     "shell.execute_reply": "2022-08-11T02:31:07.687985Z"
    },
    "papermill": {
     "duration": 0.052605,
     "end_time": "2022-08-11T02:31:07.692167",
     "exception": false,
     "start_time": "2022-08-11T02:31:07.639562",
     "status": "completed"
    },
    "tags": []
   },
   "outputs": [
    {
     "data": {
      "text/html": [
       "<div>\n",
       "<style scoped>\n",
       "    .dataframe tbody tr th:only-of-type {\n",
       "        vertical-align: middle;\n",
       "    }\n",
       "\n",
       "    .dataframe tbody tr th {\n",
       "        vertical-align: top;\n",
       "    }\n",
       "\n",
       "    .dataframe thead th {\n",
       "        text-align: right;\n",
       "    }\n",
       "</style>\n",
       "<table border=\"1\" class=\"dataframe\">\n",
       "  <thead>\n",
       "    <tr style=\"text-align: right;\">\n",
       "      <th></th>\n",
       "      <th>Rooms</th>\n",
       "      <th>Bathroom</th>\n",
       "      <th>Landsize</th>\n",
       "      <th>Lattitude</th>\n",
       "      <th>Longtitude</th>\n",
       "    </tr>\n",
       "  </thead>\n",
       "  <tbody>\n",
       "    <tr>\n",
       "      <th>count</th>\n",
       "      <td>6196.000000</td>\n",
       "      <td>6196.000000</td>\n",
       "      <td>6196.000000</td>\n",
       "      <td>6196.000000</td>\n",
       "      <td>6196.000000</td>\n",
       "    </tr>\n",
       "    <tr>\n",
       "      <th>mean</th>\n",
       "      <td>2.931407</td>\n",
       "      <td>1.576340</td>\n",
       "      <td>471.006940</td>\n",
       "      <td>-37.807904</td>\n",
       "      <td>144.990201</td>\n",
       "    </tr>\n",
       "    <tr>\n",
       "      <th>std</th>\n",
       "      <td>0.971079</td>\n",
       "      <td>0.711362</td>\n",
       "      <td>897.449881</td>\n",
       "      <td>0.075850</td>\n",
       "      <td>0.099165</td>\n",
       "    </tr>\n",
       "    <tr>\n",
       "      <th>min</th>\n",
       "      <td>1.000000</td>\n",
       "      <td>1.000000</td>\n",
       "      <td>0.000000</td>\n",
       "      <td>-38.164920</td>\n",
       "      <td>144.542370</td>\n",
       "    </tr>\n",
       "    <tr>\n",
       "      <th>25%</th>\n",
       "      <td>2.000000</td>\n",
       "      <td>1.000000</td>\n",
       "      <td>152.000000</td>\n",
       "      <td>-37.855438</td>\n",
       "      <td>144.926198</td>\n",
       "    </tr>\n",
       "    <tr>\n",
       "      <th>50%</th>\n",
       "      <td>3.000000</td>\n",
       "      <td>1.000000</td>\n",
       "      <td>373.000000</td>\n",
       "      <td>-37.802250</td>\n",
       "      <td>144.995800</td>\n",
       "    </tr>\n",
       "    <tr>\n",
       "      <th>75%</th>\n",
       "      <td>4.000000</td>\n",
       "      <td>2.000000</td>\n",
       "      <td>628.000000</td>\n",
       "      <td>-37.758200</td>\n",
       "      <td>145.052700</td>\n",
       "    </tr>\n",
       "    <tr>\n",
       "      <th>max</th>\n",
       "      <td>8.000000</td>\n",
       "      <td>8.000000</td>\n",
       "      <td>37000.000000</td>\n",
       "      <td>-37.457090</td>\n",
       "      <td>145.526350</td>\n",
       "    </tr>\n",
       "  </tbody>\n",
       "</table>\n",
       "</div>"
      ],
      "text/plain": [
       "             Rooms     Bathroom      Landsize    Lattitude   Longtitude\n",
       "count  6196.000000  6196.000000   6196.000000  6196.000000  6196.000000\n",
       "mean      2.931407     1.576340    471.006940   -37.807904   144.990201\n",
       "std       0.971079     0.711362    897.449881     0.075850     0.099165\n",
       "min       1.000000     1.000000      0.000000   -38.164920   144.542370\n",
       "25%       2.000000     1.000000    152.000000   -37.855438   144.926198\n",
       "50%       3.000000     1.000000    373.000000   -37.802250   144.995800\n",
       "75%       4.000000     2.000000    628.000000   -37.758200   145.052700\n",
       "max       8.000000     8.000000  37000.000000   -37.457090   145.526350"
      ]
     },
     "execution_count": 8,
     "metadata": {},
     "output_type": "execute_result"
    }
   ],
   "source": [
    "melbourne_features = ['Rooms', 'Bathroom', 'Landsize', 'Lattitude', 'Longtitude']\n",
    "\n",
    "mel_X = melbourne_data[melbourne_features]\n",
    "\n",
    "mel_X.describe()"
   ]
  },
  {
   "cell_type": "code",
   "execution_count": 9,
   "id": "92503b90",
   "metadata": {
    "execution": {
     "iopub.execute_input": "2022-08-11T02:31:07.725808Z",
     "iopub.status.busy": "2022-08-11T02:31:07.724974Z",
     "iopub.status.idle": "2022-08-11T02:31:07.740880Z",
     "shell.execute_reply": "2022-08-11T02:31:07.739660Z"
    },
    "papermill": {
     "duration": 0.035634,
     "end_time": "2022-08-11T02:31:07.743424",
     "exception": false,
     "start_time": "2022-08-11T02:31:07.707790",
     "status": "completed"
    },
    "tags": []
   },
   "outputs": [
    {
     "data": {
      "text/html": [
       "<div>\n",
       "<style scoped>\n",
       "    .dataframe tbody tr th:only-of-type {\n",
       "        vertical-align: middle;\n",
       "    }\n",
       "\n",
       "    .dataframe tbody tr th {\n",
       "        vertical-align: top;\n",
       "    }\n",
       "\n",
       "    .dataframe thead th {\n",
       "        text-align: right;\n",
       "    }\n",
       "</style>\n",
       "<table border=\"1\" class=\"dataframe\">\n",
       "  <thead>\n",
       "    <tr style=\"text-align: right;\">\n",
       "      <th></th>\n",
       "      <th>Rooms</th>\n",
       "      <th>Bathroom</th>\n",
       "      <th>Landsize</th>\n",
       "      <th>Lattitude</th>\n",
       "      <th>Longtitude</th>\n",
       "    </tr>\n",
       "  </thead>\n",
       "  <tbody>\n",
       "    <tr>\n",
       "      <th>1</th>\n",
       "      <td>2</td>\n",
       "      <td>1.0</td>\n",
       "      <td>156.0</td>\n",
       "      <td>-37.8079</td>\n",
       "      <td>144.9934</td>\n",
       "    </tr>\n",
       "    <tr>\n",
       "      <th>2</th>\n",
       "      <td>3</td>\n",
       "      <td>2.0</td>\n",
       "      <td>134.0</td>\n",
       "      <td>-37.8093</td>\n",
       "      <td>144.9944</td>\n",
       "    </tr>\n",
       "    <tr>\n",
       "      <th>4</th>\n",
       "      <td>4</td>\n",
       "      <td>1.0</td>\n",
       "      <td>120.0</td>\n",
       "      <td>-37.8072</td>\n",
       "      <td>144.9941</td>\n",
       "    </tr>\n",
       "    <tr>\n",
       "      <th>6</th>\n",
       "      <td>3</td>\n",
       "      <td>2.0</td>\n",
       "      <td>245.0</td>\n",
       "      <td>-37.8024</td>\n",
       "      <td>144.9993</td>\n",
       "    </tr>\n",
       "    <tr>\n",
       "      <th>7</th>\n",
       "      <td>2</td>\n",
       "      <td>1.0</td>\n",
       "      <td>256.0</td>\n",
       "      <td>-37.8060</td>\n",
       "      <td>144.9954</td>\n",
       "    </tr>\n",
       "  </tbody>\n",
       "</table>\n",
       "</div>"
      ],
      "text/plain": [
       "   Rooms  Bathroom  Landsize  Lattitude  Longtitude\n",
       "1      2       1.0     156.0   -37.8079    144.9934\n",
       "2      3       2.0     134.0   -37.8093    144.9944\n",
       "4      4       1.0     120.0   -37.8072    144.9941\n",
       "6      3       2.0     245.0   -37.8024    144.9993\n",
       "7      2       1.0     256.0   -37.8060    144.9954"
      ]
     },
     "execution_count": 9,
     "metadata": {},
     "output_type": "execute_result"
    }
   ],
   "source": [
    "mel_X.head()"
   ]
  },
  {
   "cell_type": "markdown",
   "id": "4868c189",
   "metadata": {
    "papermill": {
     "duration": 0.014509,
     "end_time": "2022-08-11T02:31:07.773274",
     "exception": false,
     "start_time": "2022-08-11T02:31:07.758765",
     "status": "completed"
    },
    "tags": []
   },
   "source": [
    "## build model\n",
    "\n",
    "using sklearn"
   ]
  },
  {
   "cell_type": "code",
   "execution_count": 10,
   "id": "c3735347",
   "metadata": {
    "execution": {
     "iopub.execute_input": "2022-08-11T02:31:07.804655Z",
     "iopub.status.busy": "2022-08-11T02:31:07.804228Z",
     "iopub.status.idle": "2022-08-11T02:31:09.459422Z",
     "shell.execute_reply": "2022-08-11T02:31:09.458340Z"
    },
    "papermill": {
     "duration": 1.673891,
     "end_time": "2022-08-11T02:31:09.461968",
     "exception": false,
     "start_time": "2022-08-11T02:31:07.788077",
     "status": "completed"
    },
    "tags": []
   },
   "outputs": [
    {
     "data": {
      "text/plain": [
       "DecisionTreeRegressor(random_state=1)"
      ]
     },
     "execution_count": 10,
     "metadata": {},
     "output_type": "execute_result"
    }
   ],
   "source": [
    "from sklearn.tree import DecisionTreeRegressor\n",
    "\n",
    "melbourne_model = DecisionTreeRegressor(random_state=1)\n",
    "\n",
    "melbourne_model.fit(mel_X, mel_y)"
   ]
  },
  {
   "cell_type": "code",
   "execution_count": 11,
   "id": "b85e59cb",
   "metadata": {
    "execution": {
     "iopub.execute_input": "2022-08-11T02:31:09.494545Z",
     "iopub.status.busy": "2022-08-11T02:31:09.494116Z",
     "iopub.status.idle": "2022-08-11T02:31:09.507270Z",
     "shell.execute_reply": "2022-08-11T02:31:09.505837Z"
    },
    "papermill": {
     "duration": 0.032763,
     "end_time": "2022-08-11T02:31:09.509994",
     "exception": false,
     "start_time": "2022-08-11T02:31:09.477231",
     "status": "completed"
    },
    "tags": []
   },
   "outputs": [
    {
     "name": "stdout",
     "output_type": "stream",
     "text": [
      "Making predictions for the following 5 houses:\n",
      "   Rooms  Bathroom  Landsize  Lattitude  Longtitude\n",
      "1      2       1.0     156.0   -37.8079    144.9934\n",
      "2      3       2.0     134.0   -37.8093    144.9944\n",
      "4      4       1.0     120.0   -37.8072    144.9941\n",
      "6      3       2.0     245.0   -37.8024    144.9993\n",
      "7      2       1.0     256.0   -37.8060    144.9954\n",
      "The predictions are\n",
      "[1035000. 1465000. 1600000. 1876000. 1636000.]\n"
     ]
    }
   ],
   "source": [
    "print(\"Making predictions for the following 5 houses:\")\n",
    "print(mel_X.head())\n",
    "print(\"The predictions are\")\n",
    "print(melbourne_model.predict(mel_X.head()))"
   ]
  },
  {
   "cell_type": "code",
   "execution_count": 12,
   "id": "4e55f649",
   "metadata": {
    "execution": {
     "iopub.execute_input": "2022-08-11T02:31:09.544399Z",
     "iopub.status.busy": "2022-08-11T02:31:09.543582Z",
     "iopub.status.idle": "2022-08-11T02:31:09.552207Z",
     "shell.execute_reply": "2022-08-11T02:31:09.551107Z"
    },
    "papermill": {
     "duration": 0.030173,
     "end_time": "2022-08-11T02:31:09.556268",
     "exception": false,
     "start_time": "2022-08-11T02:31:09.526095",
     "status": "completed"
    },
    "tags": []
   },
   "outputs": [
    {
     "data": {
      "text/plain": [
       "Index(['Id', 'MSSubClass', 'MSZoning', 'LotFrontage', 'LotArea', 'Street',\n",
       "       'Alley', 'LotShape', 'LandContour', 'Utilities', 'LotConfig',\n",
       "       'LandSlope', 'Neighborhood', 'Condition1', 'Condition2', 'BldgType',\n",
       "       'HouseStyle', 'OverallQual', 'OverallCond', 'YearBuilt', 'YearRemodAdd',\n",
       "       'RoofStyle', 'RoofMatl', 'Exterior1st', 'Exterior2nd', 'MasVnrType',\n",
       "       'MasVnrArea', 'ExterQual', 'ExterCond', 'Foundation', 'BsmtQual',\n",
       "       'BsmtCond', 'BsmtExposure', 'BsmtFinType1', 'BsmtFinSF1',\n",
       "       'BsmtFinType2', 'BsmtFinSF2', 'BsmtUnfSF', 'TotalBsmtSF', 'Heating',\n",
       "       'HeatingQC', 'CentralAir', 'Electrical', '1stFlrSF', '2ndFlrSF',\n",
       "       'LowQualFinSF', 'GrLivArea', 'BsmtFullBath', 'BsmtHalfBath', 'FullBath',\n",
       "       'HalfBath', 'BedroomAbvGr', 'KitchenAbvGr', 'KitchenQual',\n",
       "       'TotRmsAbvGrd', 'Functional', 'Fireplaces', 'FireplaceQu', 'GarageType',\n",
       "       'GarageYrBlt', 'GarageFinish', 'GarageCars', 'GarageArea', 'GarageQual',\n",
       "       'GarageCond', 'PavedDrive', 'WoodDeckSF', 'OpenPorchSF',\n",
       "       'EnclosedPorch', '3SsnPorch', 'ScreenPorch', 'PoolArea', 'PoolQC',\n",
       "       'Fence', 'MiscFeature', 'MiscVal', 'MoSold', 'YrSold', 'SaleType',\n",
       "       'SaleCondition', 'SalePrice'],\n",
       "      dtype='object')"
      ]
     },
     "execution_count": 12,
     "metadata": {},
     "output_type": "execute_result"
    }
   ],
   "source": [
    "home_data.columns"
   ]
  },
  {
   "cell_type": "code",
   "execution_count": 13,
   "id": "46fb696c",
   "metadata": {
    "execution": {
     "iopub.execute_input": "2022-08-11T02:31:09.590694Z",
     "iopub.status.busy": "2022-08-11T02:31:09.589018Z",
     "iopub.status.idle": "2022-08-11T02:31:09.597731Z",
     "shell.execute_reply": "2022-08-11T02:31:09.596323Z"
    },
    "papermill": {
     "duration": 0.028396,
     "end_time": "2022-08-11T02:31:09.600278",
     "exception": false,
     "start_time": "2022-08-11T02:31:09.571882",
     "status": "completed"
    },
    "tags": []
   },
   "outputs": [],
   "source": [
    "iowa_y = home_data.SalePrice\n",
    "\n",
    "feature_names = ['LotArea','YearBuilt','1stFlrSF','2ndFlrSF','FullBath','BedroomAbvGr','TotRmsAbvGrd']\n",
    "\n",
    "iowa_X = home_data[feature_names]"
   ]
  },
  {
   "cell_type": "code",
   "execution_count": 14,
   "id": "e2cc570a",
   "metadata": {
    "execution": {
     "iopub.execute_input": "2022-08-11T02:31:09.634391Z",
     "iopub.status.busy": "2022-08-11T02:31:09.633617Z",
     "iopub.status.idle": "2022-08-11T02:31:09.669077Z",
     "shell.execute_reply": "2022-08-11T02:31:09.667872Z"
    },
    "papermill": {
     "duration": 0.054701,
     "end_time": "2022-08-11T02:31:09.671561",
     "exception": false,
     "start_time": "2022-08-11T02:31:09.616860",
     "status": "completed"
    },
    "tags": []
   },
   "outputs": [
    {
     "data": {
      "text/html": [
       "<div>\n",
       "<style scoped>\n",
       "    .dataframe tbody tr th:only-of-type {\n",
       "        vertical-align: middle;\n",
       "    }\n",
       "\n",
       "    .dataframe tbody tr th {\n",
       "        vertical-align: top;\n",
       "    }\n",
       "\n",
       "    .dataframe thead th {\n",
       "        text-align: right;\n",
       "    }\n",
       "</style>\n",
       "<table border=\"1\" class=\"dataframe\">\n",
       "  <thead>\n",
       "    <tr style=\"text-align: right;\">\n",
       "      <th></th>\n",
       "      <th>LotArea</th>\n",
       "      <th>YearBuilt</th>\n",
       "      <th>1stFlrSF</th>\n",
       "      <th>2ndFlrSF</th>\n",
       "      <th>FullBath</th>\n",
       "      <th>BedroomAbvGr</th>\n",
       "      <th>TotRmsAbvGrd</th>\n",
       "    </tr>\n",
       "  </thead>\n",
       "  <tbody>\n",
       "    <tr>\n",
       "      <th>count</th>\n",
       "      <td>1460.000000</td>\n",
       "      <td>1460.000000</td>\n",
       "      <td>1460.000000</td>\n",
       "      <td>1460.000000</td>\n",
       "      <td>1460.000000</td>\n",
       "      <td>1460.000000</td>\n",
       "      <td>1460.000000</td>\n",
       "    </tr>\n",
       "    <tr>\n",
       "      <th>mean</th>\n",
       "      <td>10516.828082</td>\n",
       "      <td>1971.267808</td>\n",
       "      <td>1162.626712</td>\n",
       "      <td>346.992466</td>\n",
       "      <td>1.565068</td>\n",
       "      <td>2.866438</td>\n",
       "      <td>6.517808</td>\n",
       "    </tr>\n",
       "    <tr>\n",
       "      <th>std</th>\n",
       "      <td>9981.264932</td>\n",
       "      <td>30.202904</td>\n",
       "      <td>386.587738</td>\n",
       "      <td>436.528436</td>\n",
       "      <td>0.550916</td>\n",
       "      <td>0.815778</td>\n",
       "      <td>1.625393</td>\n",
       "    </tr>\n",
       "    <tr>\n",
       "      <th>min</th>\n",
       "      <td>1300.000000</td>\n",
       "      <td>1872.000000</td>\n",
       "      <td>334.000000</td>\n",
       "      <td>0.000000</td>\n",
       "      <td>0.000000</td>\n",
       "      <td>0.000000</td>\n",
       "      <td>2.000000</td>\n",
       "    </tr>\n",
       "    <tr>\n",
       "      <th>25%</th>\n",
       "      <td>7553.500000</td>\n",
       "      <td>1954.000000</td>\n",
       "      <td>882.000000</td>\n",
       "      <td>0.000000</td>\n",
       "      <td>1.000000</td>\n",
       "      <td>2.000000</td>\n",
       "      <td>5.000000</td>\n",
       "    </tr>\n",
       "    <tr>\n",
       "      <th>50%</th>\n",
       "      <td>9478.500000</td>\n",
       "      <td>1973.000000</td>\n",
       "      <td>1087.000000</td>\n",
       "      <td>0.000000</td>\n",
       "      <td>2.000000</td>\n",
       "      <td>3.000000</td>\n",
       "      <td>6.000000</td>\n",
       "    </tr>\n",
       "    <tr>\n",
       "      <th>75%</th>\n",
       "      <td>11601.500000</td>\n",
       "      <td>2000.000000</td>\n",
       "      <td>1391.250000</td>\n",
       "      <td>728.000000</td>\n",
       "      <td>2.000000</td>\n",
       "      <td>3.000000</td>\n",
       "      <td>7.000000</td>\n",
       "    </tr>\n",
       "    <tr>\n",
       "      <th>max</th>\n",
       "      <td>215245.000000</td>\n",
       "      <td>2010.000000</td>\n",
       "      <td>4692.000000</td>\n",
       "      <td>2065.000000</td>\n",
       "      <td>3.000000</td>\n",
       "      <td>8.000000</td>\n",
       "      <td>14.000000</td>\n",
       "    </tr>\n",
       "  </tbody>\n",
       "</table>\n",
       "</div>"
      ],
      "text/plain": [
       "             LotArea    YearBuilt     1stFlrSF     2ndFlrSF     FullBath  \\\n",
       "count    1460.000000  1460.000000  1460.000000  1460.000000  1460.000000   \n",
       "mean    10516.828082  1971.267808  1162.626712   346.992466     1.565068   \n",
       "std      9981.264932    30.202904   386.587738   436.528436     0.550916   \n",
       "min      1300.000000  1872.000000   334.000000     0.000000     0.000000   \n",
       "25%      7553.500000  1954.000000   882.000000     0.000000     1.000000   \n",
       "50%      9478.500000  1973.000000  1087.000000     0.000000     2.000000   \n",
       "75%     11601.500000  2000.000000  1391.250000   728.000000     2.000000   \n",
       "max    215245.000000  2010.000000  4692.000000  2065.000000     3.000000   \n",
       "\n",
       "       BedroomAbvGr  TotRmsAbvGrd  \n",
       "count   1460.000000   1460.000000  \n",
       "mean       2.866438      6.517808  \n",
       "std        0.815778      1.625393  \n",
       "min        0.000000      2.000000  \n",
       "25%        2.000000      5.000000  \n",
       "50%        3.000000      6.000000  \n",
       "75%        3.000000      7.000000  \n",
       "max        8.000000     14.000000  "
      ]
     },
     "execution_count": 14,
     "metadata": {},
     "output_type": "execute_result"
    }
   ],
   "source": [
    "iowa_X.describe()"
   ]
  },
  {
   "cell_type": "code",
   "execution_count": 15,
   "id": "d0f1dc18",
   "metadata": {
    "execution": {
     "iopub.execute_input": "2022-08-11T02:31:09.704324Z",
     "iopub.status.busy": "2022-08-11T02:31:09.703910Z",
     "iopub.status.idle": "2022-08-11T02:31:09.716237Z",
     "shell.execute_reply": "2022-08-11T02:31:09.715116Z"
    },
    "papermill": {
     "duration": 0.031486,
     "end_time": "2022-08-11T02:31:09.718648",
     "exception": false,
     "start_time": "2022-08-11T02:31:09.687162",
     "status": "completed"
    },
    "tags": []
   },
   "outputs": [
    {
     "data": {
      "text/html": [
       "<div>\n",
       "<style scoped>\n",
       "    .dataframe tbody tr th:only-of-type {\n",
       "        vertical-align: middle;\n",
       "    }\n",
       "\n",
       "    .dataframe tbody tr th {\n",
       "        vertical-align: top;\n",
       "    }\n",
       "\n",
       "    .dataframe thead th {\n",
       "        text-align: right;\n",
       "    }\n",
       "</style>\n",
       "<table border=\"1\" class=\"dataframe\">\n",
       "  <thead>\n",
       "    <tr style=\"text-align: right;\">\n",
       "      <th></th>\n",
       "      <th>LotArea</th>\n",
       "      <th>YearBuilt</th>\n",
       "      <th>1stFlrSF</th>\n",
       "      <th>2ndFlrSF</th>\n",
       "      <th>FullBath</th>\n",
       "      <th>BedroomAbvGr</th>\n",
       "      <th>TotRmsAbvGrd</th>\n",
       "    </tr>\n",
       "  </thead>\n",
       "  <tbody>\n",
       "    <tr>\n",
       "      <th>0</th>\n",
       "      <td>8450</td>\n",
       "      <td>2003</td>\n",
       "      <td>856</td>\n",
       "      <td>854</td>\n",
       "      <td>2</td>\n",
       "      <td>3</td>\n",
       "      <td>8</td>\n",
       "    </tr>\n",
       "    <tr>\n",
       "      <th>1</th>\n",
       "      <td>9600</td>\n",
       "      <td>1976</td>\n",
       "      <td>1262</td>\n",
       "      <td>0</td>\n",
       "      <td>2</td>\n",
       "      <td>3</td>\n",
       "      <td>6</td>\n",
       "    </tr>\n",
       "    <tr>\n",
       "      <th>2</th>\n",
       "      <td>11250</td>\n",
       "      <td>2001</td>\n",
       "      <td>920</td>\n",
       "      <td>866</td>\n",
       "      <td>2</td>\n",
       "      <td>3</td>\n",
       "      <td>6</td>\n",
       "    </tr>\n",
       "    <tr>\n",
       "      <th>3</th>\n",
       "      <td>9550</td>\n",
       "      <td>1915</td>\n",
       "      <td>961</td>\n",
       "      <td>756</td>\n",
       "      <td>1</td>\n",
       "      <td>3</td>\n",
       "      <td>7</td>\n",
       "    </tr>\n",
       "    <tr>\n",
       "      <th>4</th>\n",
       "      <td>14260</td>\n",
       "      <td>2000</td>\n",
       "      <td>1145</td>\n",
       "      <td>1053</td>\n",
       "      <td>2</td>\n",
       "      <td>4</td>\n",
       "      <td>9</td>\n",
       "    </tr>\n",
       "  </tbody>\n",
       "</table>\n",
       "</div>"
      ],
      "text/plain": [
       "   LotArea  YearBuilt  1stFlrSF  2ndFlrSF  FullBath  BedroomAbvGr  \\\n",
       "0     8450       2003       856       854         2             3   \n",
       "1     9600       1976      1262         0         2             3   \n",
       "2    11250       2001       920       866         2             3   \n",
       "3     9550       1915       961       756         1             3   \n",
       "4    14260       2000      1145      1053         2             4   \n",
       "\n",
       "   TotRmsAbvGrd  \n",
       "0             8  \n",
       "1             6  \n",
       "2             6  \n",
       "3             7  \n",
       "4             9  "
      ]
     },
     "execution_count": 15,
     "metadata": {},
     "output_type": "execute_result"
    }
   ],
   "source": [
    "iowa_X.head()"
   ]
  },
  {
   "cell_type": "code",
   "execution_count": 16,
   "id": "e5fbe2b2",
   "metadata": {
    "execution": {
     "iopub.execute_input": "2022-08-11T02:31:09.753326Z",
     "iopub.status.busy": "2022-08-11T02:31:09.752915Z",
     "iopub.status.idle": "2022-08-11T02:31:09.770403Z",
     "shell.execute_reply": "2022-08-11T02:31:09.769329Z"
    },
    "papermill": {
     "duration": 0.037954,
     "end_time": "2022-08-11T02:31:09.772868",
     "exception": false,
     "start_time": "2022-08-11T02:31:09.734914",
     "status": "completed"
    },
    "tags": []
   },
   "outputs": [
    {
     "data": {
      "text/plain": [
       "DecisionTreeRegressor(random_state=1)"
      ]
     },
     "execution_count": 16,
     "metadata": {},
     "output_type": "execute_result"
    }
   ],
   "source": [
    "iowa_model = DecisionTreeRegressor(random_state=1)\n",
    "\n",
    "iowa_model.fit(iowa_X, iowa_y)"
   ]
  },
  {
   "cell_type": "code",
   "execution_count": 17,
   "id": "17f737a7",
   "metadata": {
    "execution": {
     "iopub.execute_input": "2022-08-11T02:31:09.806426Z",
     "iopub.status.busy": "2022-08-11T02:31:09.806001Z",
     "iopub.status.idle": "2022-08-11T02:31:09.814274Z",
     "shell.execute_reply": "2022-08-11T02:31:09.813012Z"
    },
    "papermill": {
     "duration": 0.028025,
     "end_time": "2022-08-11T02:31:09.816751",
     "exception": false,
     "start_time": "2022-08-11T02:31:09.788726",
     "status": "completed"
    },
    "tags": []
   },
   "outputs": [
    {
     "name": "stdout",
     "output_type": "stream",
     "text": [
      "[208500. 181500. 223500. ... 266500. 142125. 147500.]\n"
     ]
    }
   ],
   "source": [
    "predictions = iowa_model.predict(iowa_X)\n",
    "print(predictions)"
   ]
  },
  {
   "cell_type": "code",
   "execution_count": 18,
   "id": "16219866",
   "metadata": {
    "execution": {
     "iopub.execute_input": "2022-08-11T02:31:09.851732Z",
     "iopub.status.busy": "2022-08-11T02:31:09.850607Z",
     "iopub.status.idle": "2022-08-11T02:31:09.875118Z",
     "shell.execute_reply": "2022-08-11T02:31:09.873348Z"
    },
    "papermill": {
     "duration": 0.045648,
     "end_time": "2022-08-11T02:31:09.878354",
     "exception": false,
     "start_time": "2022-08-11T02:31:09.832706",
     "status": "completed"
    },
    "tags": []
   },
   "outputs": [
    {
     "data": {
      "text/plain": [
       "<bound method NDFrame.head of         Id  MSSubClass MSZoning  LotFrontage  LotArea Street Alley LotShape  \\\n",
       "0        1          60       RL         65.0     8450   Pave   NaN      Reg   \n",
       "1        2          20       RL         80.0     9600   Pave   NaN      Reg   \n",
       "2        3          60       RL         68.0    11250   Pave   NaN      IR1   \n",
       "3        4          70       RL         60.0     9550   Pave   NaN      IR1   \n",
       "4        5          60       RL         84.0    14260   Pave   NaN      IR1   \n",
       "...    ...         ...      ...          ...      ...    ...   ...      ...   \n",
       "1455  1456          60       RL         62.0     7917   Pave   NaN      Reg   \n",
       "1456  1457          20       RL         85.0    13175   Pave   NaN      Reg   \n",
       "1457  1458          70       RL         66.0     9042   Pave   NaN      Reg   \n",
       "1458  1459          20       RL         68.0     9717   Pave   NaN      Reg   \n",
       "1459  1460          20       RL         75.0     9937   Pave   NaN      Reg   \n",
       "\n",
       "     LandContour Utilities  ... PoolArea PoolQC  Fence MiscFeature MiscVal  \\\n",
       "0            Lvl    AllPub  ...        0    NaN    NaN         NaN       0   \n",
       "1            Lvl    AllPub  ...        0    NaN    NaN         NaN       0   \n",
       "2            Lvl    AllPub  ...        0    NaN    NaN         NaN       0   \n",
       "3            Lvl    AllPub  ...        0    NaN    NaN         NaN       0   \n",
       "4            Lvl    AllPub  ...        0    NaN    NaN         NaN       0   \n",
       "...          ...       ...  ...      ...    ...    ...         ...     ...   \n",
       "1455         Lvl    AllPub  ...        0    NaN    NaN         NaN       0   \n",
       "1456         Lvl    AllPub  ...        0    NaN  MnPrv         NaN       0   \n",
       "1457         Lvl    AllPub  ...        0    NaN  GdPrv        Shed    2500   \n",
       "1458         Lvl    AllPub  ...        0    NaN    NaN         NaN       0   \n",
       "1459         Lvl    AllPub  ...        0    NaN    NaN         NaN       0   \n",
       "\n",
       "     MoSold YrSold  SaleType  SaleCondition  SalePrice  \n",
       "0         2   2008        WD         Normal     208500  \n",
       "1         5   2007        WD         Normal     181500  \n",
       "2         9   2008        WD         Normal     223500  \n",
       "3         2   2006        WD        Abnorml     140000  \n",
       "4        12   2008        WD         Normal     250000  \n",
       "...     ...    ...       ...            ...        ...  \n",
       "1455      8   2007        WD         Normal     175000  \n",
       "1456      2   2010        WD         Normal     210000  \n",
       "1457      5   2010        WD         Normal     266500  \n",
       "1458      4   2010        WD         Normal     142125  \n",
       "1459      6   2008        WD         Normal     147500  \n",
       "\n",
       "[1460 rows x 81 columns]>"
      ]
     },
     "execution_count": 18,
     "metadata": {},
     "output_type": "execute_result"
    }
   ],
   "source": [
    "home_data.head"
   ]
  },
  {
   "cell_type": "markdown",
   "id": "9bfc6157",
   "metadata": {
    "papermill": {
     "duration": 0.018844,
     "end_time": "2022-08-11T02:31:09.913852",
     "exception": false,
     "start_time": "2022-08-11T02:31:09.895008",
     "status": "completed"
    },
    "tags": []
   },
   "source": [
    "## create and evaluate decision tree"
   ]
  },
  {
   "cell_type": "code",
   "execution_count": 19,
   "id": "64190b69",
   "metadata": {
    "execution": {
     "iopub.execute_input": "2022-08-11T02:31:09.952981Z",
     "iopub.status.busy": "2022-08-11T02:31:09.951965Z",
     "iopub.status.idle": "2022-08-11T02:31:10.087004Z",
     "shell.execute_reply": "2022-08-11T02:31:10.085673Z"
    },
    "papermill": {
     "duration": 0.157315,
     "end_time": "2022-08-11T02:31:10.089826",
     "exception": false,
     "start_time": "2022-08-11T02:31:09.932511",
     "status": "completed"
    },
    "tags": []
   },
   "outputs": [
    {
     "data": {
      "text/plain": [
       "DecisionTreeRegressor()"
      ]
     },
     "execution_count": 19,
     "metadata": {},
     "output_type": "execute_result"
    }
   ],
   "source": [
    "# Load data\n",
    "melbourne_file_path = '../input/melbourne-housing-snapshot/melb_data.csv'\n",
    "melbourne_data = pd.read_csv(melbourne_file_path) \n",
    "# Filter rows with missing price values\n",
    "filtered_melbourne_data = melbourne_data.dropna(axis=0)\n",
    "# Choose target and features\n",
    "mel_y = filtered_melbourne_data.Price\n",
    "melbourne_features = ['Rooms', 'Bathroom', 'Landsize', 'BuildingArea', \n",
    "                        'YearBuilt', 'Lattitude', 'Longtitude']\n",
    "mel_X = filtered_melbourne_data[melbourne_features]\n",
    "\n",
    "from sklearn.tree import DecisionTreeRegressor\n",
    "# Define model\n",
    "melbourne_model = DecisionTreeRegressor()\n",
    "# Fit model\n",
    "melbourne_model.fit(mel_X, mel_y)"
   ]
  },
  {
   "cell_type": "markdown",
   "id": "64e77f10",
   "metadata": {
    "papermill": {
     "duration": 0.018311,
     "end_time": "2022-08-11T02:31:10.127303",
     "exception": false,
     "start_time": "2022-08-11T02:31:10.108992",
     "status": "completed"
    },
    "tags": []
   },
   "source": [
    "## model validation\n",
    "\n",
    "mean absolute error for model"
   ]
  },
  {
   "cell_type": "code",
   "execution_count": 20,
   "id": "f9b9c58a",
   "metadata": {
    "execution": {
     "iopub.execute_input": "2022-08-11T02:31:10.163623Z",
     "iopub.status.busy": "2022-08-11T02:31:10.163194Z",
     "iopub.status.idle": "2022-08-11T02:31:10.175528Z",
     "shell.execute_reply": "2022-08-11T02:31:10.174522Z"
    },
    "papermill": {
     "duration": 0.032453,
     "end_time": "2022-08-11T02:31:10.177870",
     "exception": false,
     "start_time": "2022-08-11T02:31:10.145417",
     "status": "completed"
    },
    "tags": []
   },
   "outputs": [
    {
     "data": {
      "text/plain": [
       "434.71594577146544"
      ]
     },
     "execution_count": 20,
     "metadata": {},
     "output_type": "execute_result"
    }
   ],
   "source": [
    "from sklearn.metrics import mean_absolute_error\n",
    "\n",
    "predicted_home_prices = melbourne_model.predict(mel_X)\n",
    "mean_absolute_error(mel_y, predicted_home_prices)"
   ]
  },
  {
   "cell_type": "markdown",
   "id": "e8a405f0",
   "metadata": {
    "papermill": {
     "duration": 0.015971,
     "end_time": "2022-08-11T02:31:10.212606",
     "exception": false,
     "start_time": "2022-08-11T02:31:10.196635",
     "status": "completed"
    },
    "tags": []
   },
   "source": [
    "this means the model is off by approximately $435"
   ]
  },
  {
   "cell_type": "code",
   "execution_count": 21,
   "id": "50140fb4",
   "metadata": {
    "execution": {
     "iopub.execute_input": "2022-08-11T02:31:10.251950Z",
     "iopub.status.busy": "2022-08-11T02:31:10.250629Z",
     "iopub.status.idle": "2022-08-11T02:31:10.293086Z",
     "shell.execute_reply": "2022-08-11T02:31:10.291809Z"
    },
    "papermill": {
     "duration": 0.066462,
     "end_time": "2022-08-11T02:31:10.297157",
     "exception": false,
     "start_time": "2022-08-11T02:31:10.230695",
     "status": "completed"
    },
    "tags": []
   },
   "outputs": [
    {
     "name": "stdout",
     "output_type": "stream",
     "text": [
      "262105.47256294385\n"
     ]
    }
   ],
   "source": [
    "from sklearn.model_selection import train_test_split\n",
    "\n",
    "# split data into training and validation data, for both features and target\n",
    "# The split is based on a random number generator. Supplying a numeric value to\n",
    "# the random_state argument guarantees we get the same split every time we\n",
    "# run this script.\n",
    "train_X, val_X, train_y, val_y = train_test_split(mel_X, mel_y, random_state = 0)\n",
    "# Define model\n",
    "melbourne_model = DecisionTreeRegressor()\n",
    "# Fit model\n",
    "melbourne_model.fit(train_X, train_y)\n",
    "\n",
    "# get predicted prices on validation data\n",
    "val_predictions = melbourne_model.predict(val_X)\n",
    "print(mean_absolute_error(val_y, val_predictions))"
   ]
  },
  {
   "cell_type": "markdown",
   "id": "0cf7ed5f",
   "metadata": {
    "papermill": {
     "duration": 0.019347,
     "end_time": "2022-08-11T02:31:10.336343",
     "exception": false,
     "start_time": "2022-08-11T02:31:10.316996",
     "status": "completed"
    },
    "tags": []
   },
   "source": [
    "## results\n",
    "\n",
    "MAE is out of the roof. \n",
    "\n",
    "Not a useful model.\n",
    "\n",
    "Improvements in chosen features should be experiented."
   ]
  },
  {
   "cell_type": "markdown",
   "id": "cb1d8de8",
   "metadata": {
    "papermill": {
     "duration": 0.01709,
     "end_time": "2022-08-11T02:31:10.370840",
     "exception": false,
     "start_time": "2022-08-11T02:31:10.353750",
     "status": "completed"
    },
    "tags": []
   },
   "source": [
    "# Iowa model"
   ]
  },
  {
   "cell_type": "code",
   "execution_count": 22,
   "id": "ee82589f",
   "metadata": {
    "execution": {
     "iopub.execute_input": "2022-08-11T02:31:10.407486Z",
     "iopub.status.busy": "2022-08-11T02:31:10.406766Z",
     "iopub.status.idle": "2022-08-11T02:31:10.420130Z",
     "shell.execute_reply": "2022-08-11T02:31:10.419254Z"
    },
    "papermill": {
     "duration": 0.033919,
     "end_time": "2022-08-11T02:31:10.422410",
     "exception": false,
     "start_time": "2022-08-11T02:31:10.388491",
     "status": "completed"
    },
    "tags": []
   },
   "outputs": [
    {
     "data": {
      "text/html": [
       "<div>\n",
       "<style scoped>\n",
       "    .dataframe tbody tr th:only-of-type {\n",
       "        vertical-align: middle;\n",
       "    }\n",
       "\n",
       "    .dataframe tbody tr th {\n",
       "        vertical-align: top;\n",
       "    }\n",
       "\n",
       "    .dataframe thead th {\n",
       "        text-align: right;\n",
       "    }\n",
       "</style>\n",
       "<table border=\"1\" class=\"dataframe\">\n",
       "  <thead>\n",
       "    <tr style=\"text-align: right;\">\n",
       "      <th></th>\n",
       "      <th>LotArea</th>\n",
       "      <th>YearBuilt</th>\n",
       "      <th>1stFlrSF</th>\n",
       "      <th>2ndFlrSF</th>\n",
       "      <th>FullBath</th>\n",
       "      <th>BedroomAbvGr</th>\n",
       "      <th>TotRmsAbvGrd</th>\n",
       "    </tr>\n",
       "  </thead>\n",
       "  <tbody>\n",
       "    <tr>\n",
       "      <th>0</th>\n",
       "      <td>8450</td>\n",
       "      <td>2003</td>\n",
       "      <td>856</td>\n",
       "      <td>854</td>\n",
       "      <td>2</td>\n",
       "      <td>3</td>\n",
       "      <td>8</td>\n",
       "    </tr>\n",
       "    <tr>\n",
       "      <th>1</th>\n",
       "      <td>9600</td>\n",
       "      <td>1976</td>\n",
       "      <td>1262</td>\n",
       "      <td>0</td>\n",
       "      <td>2</td>\n",
       "      <td>3</td>\n",
       "      <td>6</td>\n",
       "    </tr>\n",
       "    <tr>\n",
       "      <th>2</th>\n",
       "      <td>11250</td>\n",
       "      <td>2001</td>\n",
       "      <td>920</td>\n",
       "      <td>866</td>\n",
       "      <td>2</td>\n",
       "      <td>3</td>\n",
       "      <td>6</td>\n",
       "    </tr>\n",
       "    <tr>\n",
       "      <th>3</th>\n",
       "      <td>9550</td>\n",
       "      <td>1915</td>\n",
       "      <td>961</td>\n",
       "      <td>756</td>\n",
       "      <td>1</td>\n",
       "      <td>3</td>\n",
       "      <td>7</td>\n",
       "    </tr>\n",
       "    <tr>\n",
       "      <th>4</th>\n",
       "      <td>14260</td>\n",
       "      <td>2000</td>\n",
       "      <td>1145</td>\n",
       "      <td>1053</td>\n",
       "      <td>2</td>\n",
       "      <td>4</td>\n",
       "      <td>9</td>\n",
       "    </tr>\n",
       "  </tbody>\n",
       "</table>\n",
       "</div>"
      ],
      "text/plain": [
       "   LotArea  YearBuilt  1stFlrSF  2ndFlrSF  FullBath  BedroomAbvGr  \\\n",
       "0     8450       2003       856       854         2             3   \n",
       "1     9600       1976      1262         0         2             3   \n",
       "2    11250       2001       920       866         2             3   \n",
       "3     9550       1915       961       756         1             3   \n",
       "4    14260       2000      1145      1053         2             4   \n",
       "\n",
       "   TotRmsAbvGrd  \n",
       "0             8  \n",
       "1             6  \n",
       "2             6  \n",
       "3             7  \n",
       "4             9  "
      ]
     },
     "execution_count": 22,
     "metadata": {},
     "output_type": "execute_result"
    }
   ],
   "source": [
    "iowa_X.head()"
   ]
  },
  {
   "cell_type": "code",
   "execution_count": 23,
   "id": "d4343af0",
   "metadata": {
    "execution": {
     "iopub.execute_input": "2022-08-11T02:31:10.460079Z",
     "iopub.status.busy": "2022-08-11T02:31:10.459002Z",
     "iopub.status.idle": "2022-08-11T02:31:10.492803Z",
     "shell.execute_reply": "2022-08-11T02:31:10.491804Z"
    },
    "papermill": {
     "duration": 0.054983,
     "end_time": "2022-08-11T02:31:10.495158",
     "exception": false,
     "start_time": "2022-08-11T02:31:10.440175",
     "status": "completed"
    },
    "tags": []
   },
   "outputs": [
    {
     "data": {
      "text/html": [
       "<div>\n",
       "<style scoped>\n",
       "    .dataframe tbody tr th:only-of-type {\n",
       "        vertical-align: middle;\n",
       "    }\n",
       "\n",
       "    .dataframe tbody tr th {\n",
       "        vertical-align: top;\n",
       "    }\n",
       "\n",
       "    .dataframe thead th {\n",
       "        text-align: right;\n",
       "    }\n",
       "</style>\n",
       "<table border=\"1\" class=\"dataframe\">\n",
       "  <thead>\n",
       "    <tr style=\"text-align: right;\">\n",
       "      <th></th>\n",
       "      <th>LotArea</th>\n",
       "      <th>YearBuilt</th>\n",
       "      <th>1stFlrSF</th>\n",
       "      <th>2ndFlrSF</th>\n",
       "      <th>FullBath</th>\n",
       "      <th>BedroomAbvGr</th>\n",
       "      <th>TotRmsAbvGrd</th>\n",
       "    </tr>\n",
       "  </thead>\n",
       "  <tbody>\n",
       "    <tr>\n",
       "      <th>count</th>\n",
       "      <td>1460.000000</td>\n",
       "      <td>1460.000000</td>\n",
       "      <td>1460.000000</td>\n",
       "      <td>1460.000000</td>\n",
       "      <td>1460.000000</td>\n",
       "      <td>1460.000000</td>\n",
       "      <td>1460.000000</td>\n",
       "    </tr>\n",
       "    <tr>\n",
       "      <th>mean</th>\n",
       "      <td>10516.828082</td>\n",
       "      <td>1971.267808</td>\n",
       "      <td>1162.626712</td>\n",
       "      <td>346.992466</td>\n",
       "      <td>1.565068</td>\n",
       "      <td>2.866438</td>\n",
       "      <td>6.517808</td>\n",
       "    </tr>\n",
       "    <tr>\n",
       "      <th>std</th>\n",
       "      <td>9981.264932</td>\n",
       "      <td>30.202904</td>\n",
       "      <td>386.587738</td>\n",
       "      <td>436.528436</td>\n",
       "      <td>0.550916</td>\n",
       "      <td>0.815778</td>\n",
       "      <td>1.625393</td>\n",
       "    </tr>\n",
       "    <tr>\n",
       "      <th>min</th>\n",
       "      <td>1300.000000</td>\n",
       "      <td>1872.000000</td>\n",
       "      <td>334.000000</td>\n",
       "      <td>0.000000</td>\n",
       "      <td>0.000000</td>\n",
       "      <td>0.000000</td>\n",
       "      <td>2.000000</td>\n",
       "    </tr>\n",
       "    <tr>\n",
       "      <th>25%</th>\n",
       "      <td>7553.500000</td>\n",
       "      <td>1954.000000</td>\n",
       "      <td>882.000000</td>\n",
       "      <td>0.000000</td>\n",
       "      <td>1.000000</td>\n",
       "      <td>2.000000</td>\n",
       "      <td>5.000000</td>\n",
       "    </tr>\n",
       "    <tr>\n",
       "      <th>50%</th>\n",
       "      <td>9478.500000</td>\n",
       "      <td>1973.000000</td>\n",
       "      <td>1087.000000</td>\n",
       "      <td>0.000000</td>\n",
       "      <td>2.000000</td>\n",
       "      <td>3.000000</td>\n",
       "      <td>6.000000</td>\n",
       "    </tr>\n",
       "    <tr>\n",
       "      <th>75%</th>\n",
       "      <td>11601.500000</td>\n",
       "      <td>2000.000000</td>\n",
       "      <td>1391.250000</td>\n",
       "      <td>728.000000</td>\n",
       "      <td>2.000000</td>\n",
       "      <td>3.000000</td>\n",
       "      <td>7.000000</td>\n",
       "    </tr>\n",
       "    <tr>\n",
       "      <th>max</th>\n",
       "      <td>215245.000000</td>\n",
       "      <td>2010.000000</td>\n",
       "      <td>4692.000000</td>\n",
       "      <td>2065.000000</td>\n",
       "      <td>3.000000</td>\n",
       "      <td>8.000000</td>\n",
       "      <td>14.000000</td>\n",
       "    </tr>\n",
       "  </tbody>\n",
       "</table>\n",
       "</div>"
      ],
      "text/plain": [
       "             LotArea    YearBuilt     1stFlrSF     2ndFlrSF     FullBath  \\\n",
       "count    1460.000000  1460.000000  1460.000000  1460.000000  1460.000000   \n",
       "mean    10516.828082  1971.267808  1162.626712   346.992466     1.565068   \n",
       "std      9981.264932    30.202904   386.587738   436.528436     0.550916   \n",
       "min      1300.000000  1872.000000   334.000000     0.000000     0.000000   \n",
       "25%      7553.500000  1954.000000   882.000000     0.000000     1.000000   \n",
       "50%      9478.500000  1973.000000  1087.000000     0.000000     2.000000   \n",
       "75%     11601.500000  2000.000000  1391.250000   728.000000     2.000000   \n",
       "max    215245.000000  2010.000000  4692.000000  2065.000000     3.000000   \n",
       "\n",
       "       BedroomAbvGr  TotRmsAbvGrd  \n",
       "count   1460.000000   1460.000000  \n",
       "mean       2.866438      6.517808  \n",
       "std        0.815778      1.625393  \n",
       "min        0.000000      2.000000  \n",
       "25%        2.000000      5.000000  \n",
       "50%        3.000000      6.000000  \n",
       "75%        3.000000      7.000000  \n",
       "max        8.000000     14.000000  "
      ]
     },
     "execution_count": 23,
     "metadata": {},
     "output_type": "execute_result"
    }
   ],
   "source": [
    "iowa_X.describe()"
   ]
  },
  {
   "cell_type": "markdown",
   "id": "c4c53f00",
   "metadata": {
    "papermill": {
     "duration": 0.016421,
     "end_time": "2022-08-11T02:31:10.528427",
     "exception": false,
     "start_time": "2022-08-11T02:31:10.512006",
     "status": "completed"
    },
    "tags": []
   },
   "source": [
    "## train test split"
   ]
  },
  {
   "cell_type": "code",
   "execution_count": 24,
   "id": "7d2c71d3",
   "metadata": {
    "execution": {
     "iopub.execute_input": "2022-08-11T02:31:10.566302Z",
     "iopub.status.busy": "2022-08-11T02:31:10.565264Z",
     "iopub.status.idle": "2022-08-11T02:31:10.574186Z",
     "shell.execute_reply": "2022-08-11T02:31:10.573199Z"
    },
    "papermill": {
     "duration": 0.030253,
     "end_time": "2022-08-11T02:31:10.576777",
     "exception": false,
     "start_time": "2022-08-11T02:31:10.546524",
     "status": "completed"
    },
    "tags": []
   },
   "outputs": [],
   "source": [
    "train_X, val_X, train_y, val_y = train_test_split(iowa_X, iowa_y, random_state = 1)"
   ]
  },
  {
   "cell_type": "markdown",
   "id": "4f2dd6cf",
   "metadata": {
    "papermill": {
     "duration": 0.018787,
     "end_time": "2022-08-11T02:31:10.614396",
     "exception": false,
     "start_time": "2022-08-11T02:31:10.595609",
     "status": "completed"
    },
    "tags": []
   },
   "source": [
    "## make model"
   ]
  },
  {
   "cell_type": "code",
   "execution_count": 25,
   "id": "7192de43",
   "metadata": {
    "execution": {
     "iopub.execute_input": "2022-08-11T02:31:10.659535Z",
     "iopub.status.busy": "2022-08-11T02:31:10.657979Z",
     "iopub.status.idle": "2022-08-11T02:31:10.675649Z",
     "shell.execute_reply": "2022-08-11T02:31:10.673762Z"
    },
    "papermill": {
     "duration": 0.043327,
     "end_time": "2022-08-11T02:31:10.679963",
     "exception": false,
     "start_time": "2022-08-11T02:31:10.636636",
     "status": "completed"
    },
    "tags": []
   },
   "outputs": [
    {
     "data": {
      "text/plain": [
       "DecisionTreeRegressor(random_state=1)"
      ]
     },
     "execution_count": 25,
     "metadata": {},
     "output_type": "execute_result"
    }
   ],
   "source": [
    "iowa_model = DecisionTreeRegressor(random_state = 1)\n",
    "\n",
    "iowa_model.fit(train_X, train_y)"
   ]
  },
  {
   "cell_type": "markdown",
   "id": "181c4939",
   "metadata": {
    "papermill": {
     "duration": 0.017414,
     "end_time": "2022-08-11T02:31:10.716729",
     "exception": false,
     "start_time": "2022-08-11T02:31:10.699315",
     "status": "completed"
    },
    "tags": []
   },
   "source": [
    "## predict"
   ]
  },
  {
   "cell_type": "code",
   "execution_count": 26,
   "id": "023a21f8",
   "metadata": {
    "execution": {
     "iopub.execute_input": "2022-08-11T02:31:10.752131Z",
     "iopub.status.busy": "2022-08-11T02:31:10.751589Z",
     "iopub.status.idle": "2022-08-11T02:31:10.758957Z",
     "shell.execute_reply": "2022-08-11T02:31:10.757806Z"
    },
    "papermill": {
     "duration": 0.028006,
     "end_time": "2022-08-11T02:31:10.761480",
     "exception": false,
     "start_time": "2022-08-11T02:31:10.733474",
     "status": "completed"
    },
    "tags": []
   },
   "outputs": [],
   "source": [
    "val_predictions = iowa_model.predict(val_X)"
   ]
  },
  {
   "cell_type": "code",
   "execution_count": 27,
   "id": "836ad84d",
   "metadata": {
    "execution": {
     "iopub.execute_input": "2022-08-11T02:31:10.798181Z",
     "iopub.status.busy": "2022-08-11T02:31:10.797695Z",
     "iopub.status.idle": "2022-08-11T02:31:10.810388Z",
     "shell.execute_reply": "2022-08-11T02:31:10.808725Z"
    },
    "papermill": {
     "duration": 0.035107,
     "end_time": "2022-08-11T02:31:10.813614",
     "exception": false,
     "start_time": "2022-08-11T02:31:10.778507",
     "status": "completed"
    },
    "tags": []
   },
   "outputs": [
    {
     "name": "stdout",
     "output_type": "stream",
     "text": [
      "[186500. 184000. 130000.  92000. 164500. 220000. 335000. 144152. 215000.\n",
      " 262000. 180000. 121000. 175900. 210000. 248900. 131000. 100000. 149350.\n",
      " 235000. 156000. 149900. 265979. 193500. 377500. 100000. 162900. 145000.\n",
      " 180000. 582933. 146000. 140000.  91500. 112500. 113000. 145000. 312500.\n",
      " 110000. 132000. 305000. 128000. 162900. 115000. 110000. 124000. 215200.\n",
      " 180000.  79000. 192000. 282922. 235000. 132000. 325000.  80000. 237000.\n",
      " 208300. 100000. 120500. 162000. 153000. 187000. 185750. 335000. 129000.\n",
      " 124900. 185750. 133700. 127000. 230000. 146800. 157900. 136000. 153575.\n",
      " 335000. 177500. 143000. 202500. 168500. 105000. 305900. 192000. 190000.\n",
      " 140200. 134900. 128950. 213000. 108959. 149500. 190000. 175900. 160000.\n",
      " 250580. 157000. 120500. 147500. 118000. 117000. 110000. 130000. 148500.\n",
      " 148000. 190000. 130500. 127000. 120500. 135000. 168000. 176432. 128000.\n",
      " 147000. 260000. 132000. 129500. 171000. 181134. 227875. 189000. 282922.\n",
      "  94750. 185000. 194000. 159000. 279500. 290000. 135000. 299800. 165000.\n",
      " 394432. 135750. 155000. 212000. 310000. 134800.  84000. 122900.  80000.\n",
      " 191000. 755000. 147000. 248000. 106500. 145000. 359100. 145000. 192500.\n",
      " 149000. 252000. 109000. 215000. 220000. 138500. 185000. 185000. 120500.\n",
      " 181000. 173000. 335000.  67000. 149350.  67000. 156000. 119000. 110500.\n",
      " 184000. 147000. 156000. 171000. 177000. 159000. 125000. 105000. 284000.\n",
      " 167500. 200000. 312500. 213000. 135960. 205000. 237000. 107000. 163000.\n",
      " 132500. 155835. 165500. 138500. 257000. 160000. 394617. 281213. 161000.\n",
      " 127500.  88000. 139000.  89500. 132500. 134800. 335000. 248900. 155000.\n",
      " 147000.  86000. 185000. 200000. 180500. 215200. 319900. 105000. 194000.\n",
      " 340000. 256000. 280000. 186500. 105500. 155000. 133500. 255500. 253000.\n",
      " 130000.  92900. 256000. 100000. 755000. 138500. 168500. 112000. 127000.\n",
      " 109008. 197000. 245500. 171900. 162000. 128000. 173000. 132000. 118000.\n",
      " 235128. 118964. 260000. 116000. 185000. 315750. 236500. 140000. 151500.\n",
      " 184000.  84000. 130000. 154000. 205000. 110000. 151500. 123000. 129500.\n",
      " 173900. 181500. 165500. 106500. 184900.  84500. 377500. 118500. 180000.\n",
      " 190000. 208500. 181000.  98000. 157000. 151500.  84000. 139000. 100000.\n",
      " 161750. 165600. 116000. 118500. 187000. 147000. 112000. 132000. 230000.\n",
      " 128000. 147000. 125000. 145000. 151000. 284000. 221000. 140200. 129000.\n",
      " 290000. 105000.  96500. 310000. 140000. 132000. 203000. 221000. 215200.\n",
      " 214000. 139000.  91500. 148000. 155000. 115000. 180000. 165500. 223000.\n",
      " 139000. 179900. 150000. 185000. 163000. 176000. 127000. 227000. 146000.\n",
      "  99900. 275000. 180500. 180000. 157000. 186500. 179900. 137500. 219500.\n",
      " 155000. 345000. 197000. 205000. 159000. 159434. 156000. 196000. 252678.\n",
      " 255500. 213000. 150900. 143750. 139000. 260000. 189000. 213250. 207500.\n",
      "  80000. 221000. 109500. 155000. 165000. 149350. 204900. 105900. 155000.\n",
      " 176000. 395000. 149700. 147000. 143900. 226700. 176000. 116000. 325300.\n",
      " 133750. 188500. 148500. 284000. 201800.]\n",
      "258     231500\n",
      "267     179500\n",
      "288     122000\n",
      "649      84500\n",
      "1233    142000\n",
      "         ...  \n",
      "1017    187500\n",
      "534     178000\n",
      "1334    125000\n",
      "1369    232000\n",
      "628     135000\n",
      "Name: SalePrice, Length: 365, dtype: int64\n"
     ]
    }
   ],
   "source": [
    "print(val_predictions)\n",
    "\n",
    "print(val_y)"
   ]
  },
  {
   "cell_type": "code",
   "execution_count": 28,
   "id": "44efefce",
   "metadata": {
    "execution": {
     "iopub.execute_input": "2022-08-11T02:31:10.854176Z",
     "iopub.status.busy": "2022-08-11T02:31:10.852491Z",
     "iopub.status.idle": "2022-08-11T02:31:10.861830Z",
     "shell.execute_reply": "2022-08-11T02:31:10.860292Z"
    },
    "papermill": {
     "duration": 0.032612,
     "end_time": "2022-08-11T02:31:10.865381",
     "exception": false,
     "start_time": "2022-08-11T02:31:10.832769",
     "status": "completed"
    },
    "tags": []
   },
   "outputs": [
    {
     "name": "stdout",
     "output_type": "stream",
     "text": [
      "258     231500\n",
      "267     179500\n",
      "288     122000\n",
      "649      84500\n",
      "1233    142000\n",
      "         ...  \n",
      "1017    187500\n",
      "534     178000\n",
      "1334    125000\n",
      "1369    232000\n",
      "628     135000\n",
      "Name: SalePrice, Length: 365, dtype: int64\n"
     ]
    }
   ],
   "source": [
    "print(val_y)"
   ]
  },
  {
   "cell_type": "markdown",
   "id": "61646812",
   "metadata": {
    "papermill": {
     "duration": 0.017968,
     "end_time": "2022-08-11T02:31:10.902654",
     "exception": false,
     "start_time": "2022-08-11T02:31:10.884686",
     "status": "completed"
    },
    "tags": []
   },
   "source": [
    "## mae is bae"
   ]
  },
  {
   "cell_type": "code",
   "execution_count": 29,
   "id": "7581714a",
   "metadata": {
    "execution": {
     "iopub.execute_input": "2022-08-11T02:31:10.944340Z",
     "iopub.status.busy": "2022-08-11T02:31:10.943812Z",
     "iopub.status.idle": "2022-08-11T02:31:10.951616Z",
     "shell.execute_reply": "2022-08-11T02:31:10.950401Z"
    },
    "papermill": {
     "duration": 0.033981,
     "end_time": "2022-08-11T02:31:10.955736",
     "exception": false,
     "start_time": "2022-08-11T02:31:10.921755",
     "status": "completed"
    },
    "tags": []
   },
   "outputs": [
    {
     "name": "stdout",
     "output_type": "stream",
     "text": [
      "29652.931506849316\n"
     ]
    }
   ],
   "source": [
    "val_mae = mean_absolute_error(val_y, val_predictions)\n",
    "\n",
    "print(val_mae)"
   ]
  },
  {
   "cell_type": "markdown",
   "id": "10ff53eb",
   "metadata": {
    "papermill": {
     "duration": 0.019937,
     "end_time": "2022-08-11T02:31:10.995434",
     "exception": false,
     "start_time": "2022-08-11T02:31:10.975497",
     "status": "completed"
    },
    "tags": []
   },
   "source": [
    "mae isn't bae. \n",
    "\n",
    "the model needs improvement."
   ]
  },
  {
   "cell_type": "code",
   "execution_count": 30,
   "id": "33db7d59",
   "metadata": {
    "execution": {
     "iopub.execute_input": "2022-08-11T02:31:11.041004Z",
     "iopub.status.busy": "2022-08-11T02:31:11.040576Z",
     "iopub.status.idle": "2022-08-11T02:31:11.047060Z",
     "shell.execute_reply": "2022-08-11T02:31:11.045604Z"
    },
    "papermill": {
     "duration": 0.031668,
     "end_time": "2022-08-11T02:31:11.049577",
     "exception": false,
     "start_time": "2022-08-11T02:31:11.017909",
     "status": "completed"
    },
    "tags": []
   },
   "outputs": [],
   "source": [
    "def get_mae(max_leaf_nodes, train_X, val_X, train_y, val_y):\n",
    "    model = DecisionTreeRegressor(max_leaf_nodes=max_leaf_nodes, random_state=0)\n",
    "    model.fit(train_X, train_y)\n",
    "    preds_val = model.predict(val_X)\n",
    "    mae = mean_absolute_error(val_y, preds_val)\n",
    "    return(mae)"
   ]
  },
  {
   "cell_type": "markdown",
   "id": "4988b666",
   "metadata": {
    "papermill": {
     "duration": 0.016965,
     "end_time": "2022-08-11T02:31:11.084111",
     "exception": false,
     "start_time": "2022-08-11T02:31:11.067146",
     "status": "completed"
    },
    "tags": []
   },
   "source": [
    "## let's make the melbourne model again"
   ]
  },
  {
   "cell_type": "code",
   "execution_count": 31,
   "id": "a2729e80",
   "metadata": {
    "execution": {
     "iopub.execute_input": "2022-08-11T02:31:11.121730Z",
     "iopub.status.busy": "2022-08-11T02:31:11.121250Z",
     "iopub.status.idle": "2022-08-11T02:31:11.214267Z",
     "shell.execute_reply": "2022-08-11T02:31:11.213033Z"
    },
    "papermill": {
     "duration": 0.115774,
     "end_time": "2022-08-11T02:31:11.217088",
     "exception": false,
     "start_time": "2022-08-11T02:31:11.101314",
     "status": "completed"
    },
    "tags": []
   },
   "outputs": [],
   "source": [
    "# Load data\n",
    "melbourne_file_path = '../input/melbourne-housing-snapshot/melb_data.csv'\n",
    "melbourne_data = pd.read_csv(melbourne_file_path) \n",
    "# Filter rows with missing values\n",
    "filtered_melbourne_data = melbourne_data.dropna(axis=0)\n",
    "# Choose target and features\n",
    "y = filtered_melbourne_data.Price\n",
    "melbourne_features = ['Rooms', 'Bathroom', 'Landsize', 'BuildingArea', \n",
    "                        'YearBuilt', 'Lattitude', 'Longtitude']\n",
    "X = filtered_melbourne_data[melbourne_features]\n",
    "\n",
    "from sklearn.model_selection import train_test_split\n",
    "\n",
    "# split data into training and validation data, for both features and target\n",
    "train_X, val_X, train_y, val_y = train_test_split(X, y,random_state = 0)"
   ]
  },
  {
   "cell_type": "markdown",
   "id": "37f0c40c",
   "metadata": {
    "papermill": {
     "duration": 0.016875,
     "end_time": "2022-08-11T02:31:11.251695",
     "exception": false,
     "start_time": "2022-08-11T02:31:11.234820",
     "status": "completed"
    },
    "tags": []
   },
   "source": [
    "## compare mae to find ~bae~ optimal number of nodes"
   ]
  },
  {
   "cell_type": "code",
   "execution_count": 32,
   "id": "2c790b1f",
   "metadata": {
    "execution": {
     "iopub.execute_input": "2022-08-11T02:31:11.290303Z",
     "iopub.status.busy": "2022-08-11T02:31:11.289842Z",
     "iopub.status.idle": "2022-08-11T02:31:11.388983Z",
     "shell.execute_reply": "2022-08-11T02:31:11.386987Z"
    },
    "papermill": {
     "duration": 0.122241,
     "end_time": "2022-08-11T02:31:11.392169",
     "exception": false,
     "start_time": "2022-08-11T02:31:11.269928",
     "status": "completed"
    },
    "tags": []
   },
   "outputs": [
    {
     "name": "stdout",
     "output_type": "stream",
     "text": [
      "Max leaf nodes: 5  \t\t Mean Absolute Error:  347380\n",
      "Max leaf nodes: 50  \t\t Mean Absolute Error:  258171\n",
      "Max leaf nodes: 500  \t\t Mean Absolute Error:  243495\n",
      "Max leaf nodes: 5000  \t\t Mean Absolute Error:  254983\n"
     ]
    }
   ],
   "source": [
    "# compare MAE with differing values of max_leaf_nodes\n",
    "for max_leaf_nodes in [5, 50, 500, 5000]:\n",
    "    my_mae = get_mae(max_leaf_nodes, train_X, val_X, train_y, val_y)\n",
    "    print(\"Max leaf nodes: %d  \\t\\t Mean Absolute Error:  %d\" %(max_leaf_nodes, my_mae))"
   ]
  },
  {
   "cell_type": "markdown",
   "id": "1114f094",
   "metadata": {
    "papermill": {
     "duration": 0.020531,
     "end_time": "2022-08-11T02:31:11.431823",
     "exception": false,
     "start_time": "2022-08-11T02:31:11.411292",
     "status": "completed"
    },
    "tags": []
   },
   "source": [
    "seems to be 15\n",
    "\n",
    "let's try again"
   ]
  },
  {
   "cell_type": "code",
   "execution_count": 33,
   "id": "7fcca3e3",
   "metadata": {
    "execution": {
     "iopub.execute_input": "2022-08-11T02:31:11.472546Z",
     "iopub.status.busy": "2022-08-11T02:31:11.472116Z",
     "iopub.status.idle": "2022-08-11T02:31:11.580580Z",
     "shell.execute_reply": "2022-08-11T02:31:11.578823Z"
    },
    "papermill": {
     "duration": 0.131315,
     "end_time": "2022-08-11T02:31:11.583182",
     "exception": false,
     "start_time": "2022-08-11T02:31:11.451867",
     "status": "completed"
    },
    "tags": []
   },
   "outputs": [
    {
     "name": "stdout",
     "output_type": "stream",
     "text": [
      "Max leaf nodes: 19  \t\t Mean Absolute Error:  280245\n",
      "Max leaf nodes: 69  \t\t Mean Absolute Error:  250093\n",
      "Max leaf nodes: 420  \t\t Mean Absolute Error:  244037\n",
      "Max leaf nodes: 9000  \t\t Mean Absolute Error:  254983\n"
     ]
    }
   ],
   "source": [
    "for max_leaf_nodes in [19, 69, 420, 9000]:\n",
    "    my_mae = get_mae(max_leaf_nodes, train_X, val_X, train_y, val_y)\n",
    "    print(\"Max leaf nodes: %d  \\t\\t Mean Absolute Error:  %d\" %(max_leaf_nodes, my_mae))"
   ]
  },
  {
   "cell_type": "markdown",
   "id": "e751fd61",
   "metadata": {
    "papermill": {
     "duration": 0.017335,
     "end_time": "2022-08-11T02:31:11.618467",
     "exception": false,
     "start_time": "2022-08-11T02:31:11.601132",
     "status": "completed"
    },
    "tags": []
   },
   "source": [
    "Around 500 seems to be the best number of nodes"
   ]
  },
  {
   "cell_type": "markdown",
   "id": "62e9ed39",
   "metadata": {
    "papermill": {
     "duration": 0.019607,
     "end_time": "2022-08-11T02:31:11.655389",
     "exception": false,
     "start_time": "2022-08-11T02:31:11.635782",
     "status": "completed"
    },
    "tags": []
   },
   "source": [
    "## let's make the iowa model again"
   ]
  },
  {
   "cell_type": "code",
   "execution_count": 34,
   "id": "53c2bdff",
   "metadata": {
    "execution": {
     "iopub.execute_input": "2022-08-11T02:31:11.697885Z",
     "iopub.status.busy": "2022-08-11T02:31:11.696146Z",
     "iopub.status.idle": "2022-08-11T02:31:11.749868Z",
     "shell.execute_reply": "2022-08-11T02:31:11.748115Z"
    },
    "papermill": {
     "duration": 0.077908,
     "end_time": "2022-08-11T02:31:11.752558",
     "exception": false,
     "start_time": "2022-08-11T02:31:11.674650",
     "status": "completed"
    },
    "tags": []
   },
   "outputs": [
    {
     "name": "stdout",
     "output_type": "stream",
     "text": [
      "Validation MAE: 29,653\n"
     ]
    }
   ],
   "source": [
    "# Path of the file to read\n",
    "iowa_file_path = '../input/home-data-for-ml-course/train.csv'\n",
    "\n",
    "home_data = pd.read_csv(iowa_file_path)\n",
    "# Create target object and call it y\n",
    "y = home_data.SalePrice\n",
    "# Create X\n",
    "features = ['LotArea', 'YearBuilt', '1stFlrSF', '2ndFlrSF', 'FullBath', 'BedroomAbvGr', 'TotRmsAbvGrd']\n",
    "X = home_data[features]\n",
    "\n",
    "# Split into validation and training data\n",
    "train_X, val_X, train_y, val_y = train_test_split(X, y, random_state=1)\n",
    "\n",
    "# Specify Model\n",
    "iowa_model = DecisionTreeRegressor(random_state=1)\n",
    "# Fit Model\n",
    "iowa_model.fit(train_X, train_y)\n",
    "\n",
    "# Make validation predictions and calculate mean absolute error\n",
    "val_predictions = iowa_model.predict(val_X)\n",
    "val_mae = mean_absolute_error(val_predictions, val_y)\n",
    "print(\"Validation MAE: {:,.0f}\".format(val_mae))"
   ]
  },
  {
   "cell_type": "code",
   "execution_count": 35,
   "id": "84dfca32",
   "metadata": {
    "execution": {
     "iopub.execute_input": "2022-08-11T02:31:11.826761Z",
     "iopub.status.busy": "2022-08-11T02:31:11.825821Z",
     "iopub.status.idle": "2022-08-11T02:31:11.880502Z",
     "shell.execute_reply": "2022-08-11T02:31:11.879084Z"
    },
    "papermill": {
     "duration": 0.111202,
     "end_time": "2022-08-11T02:31:11.883147",
     "exception": false,
     "start_time": "2022-08-11T02:31:11.771945",
     "status": "completed"
    },
    "tags": []
   },
   "outputs": [
    {
     "name": "stdout",
     "output_type": "stream",
     "text": [
      "{5: 35044.51299744237, 25: 29016.41319191076, 50: 27405.930473214907, 100: 27282.50803885739, 250: 27893.822225701646, 500: 29454.18598068598}\n",
      "100\n"
     ]
    }
   ],
   "source": [
    "candidate_max_leaf_nodes = [5, 25, 50, 100, 250, 500]\n",
    "\n",
    "# loop to find the ideal tree size from candidate_max_leaf_nodes\n",
    "scores = {leaf_size: get_mae(leaf_size, train_X, val_X, train_y, val_y) for leaf_size in candidate_max_leaf_nodes}\n",
    "\n",
    "best_tree_size = min(scores, key=scores.get)\n",
    "\n",
    "print(scores)\n",
    "print(best_tree_size)"
   ]
  },
  {
   "cell_type": "markdown",
   "id": "faa1df3a",
   "metadata": {
    "papermill": {
     "duration": 0.019405,
     "end_time": "2022-08-11T02:31:11.921337",
     "exception": false,
     "start_time": "2022-08-11T02:31:11.901932",
     "status": "completed"
    },
    "tags": []
   },
   "source": [
    "best tree size is 100 for the decision tree regressor with iowa data"
   ]
  },
  {
   "cell_type": "markdown",
   "id": "7f3adf49",
   "metadata": {
    "papermill": {
     "duration": 0.020297,
     "end_time": "2022-08-11T02:31:11.961102",
     "exception": false,
     "start_time": "2022-08-11T02:31:11.940805",
     "status": "completed"
    },
    "tags": []
   },
   "source": [
    "## moving on to trying random forests instead of decision trees"
   ]
  },
  {
   "cell_type": "code",
   "execution_count": 36,
   "id": "b7c36435",
   "metadata": {
    "execution": {
     "iopub.execute_input": "2022-08-11T02:31:12.006202Z",
     "iopub.status.busy": "2022-08-11T02:31:12.005773Z",
     "iopub.status.idle": "2022-08-11T02:31:12.097758Z",
     "shell.execute_reply": "2022-08-11T02:31:12.095850Z"
    },
    "papermill": {
     "duration": 0.117358,
     "end_time": "2022-08-11T02:31:12.100549",
     "exception": false,
     "start_time": "2022-08-11T02:31:11.983191",
     "status": "completed"
    },
    "tags": []
   },
   "outputs": [],
   "source": [
    "# Load data\n",
    "melbourne_file_path = '../input/melbourne-housing-snapshot/melb_data.csv'\n",
    "melbourne_data = pd.read_csv(melbourne_file_path) \n",
    "# Filter rows with missing values\n",
    "melbourne_data = melbourne_data.dropna(axis=0)\n",
    "# Choose target and features\n",
    "y = melbourne_data.Price\n",
    "melbourne_features = ['Rooms', 'Bathroom', 'Landsize', 'BuildingArea', \n",
    "                        'YearBuilt', 'Lattitude', 'Longtitude']\n",
    "X = melbourne_data[melbourne_features]"
   ]
  },
  {
   "cell_type": "code",
   "execution_count": 37,
   "id": "10f37ebd",
   "metadata": {
    "execution": {
     "iopub.execute_input": "2022-08-11T02:31:12.142034Z",
     "iopub.status.busy": "2022-08-11T02:31:12.140706Z",
     "iopub.status.idle": "2022-08-11T02:31:12.148927Z",
     "shell.execute_reply": "2022-08-11T02:31:12.147604Z"
    },
    "papermill": {
     "duration": 0.033167,
     "end_time": "2022-08-11T02:31:12.151503",
     "exception": false,
     "start_time": "2022-08-11T02:31:12.118336",
     "status": "completed"
    },
    "tags": []
   },
   "outputs": [],
   "source": [
    "train_X, val_X, train_y, val_y = train_test_split(X, y,random_state = 0)"
   ]
  },
  {
   "cell_type": "code",
   "execution_count": 38,
   "id": "a3119897",
   "metadata": {
    "execution": {
     "iopub.execute_input": "2022-08-11T02:31:12.192127Z",
     "iopub.status.busy": "2022-08-11T02:31:12.190728Z",
     "iopub.status.idle": "2022-08-11T02:31:14.328601Z",
     "shell.execute_reply": "2022-08-11T02:31:14.327278Z"
    },
    "papermill": {
     "duration": 2.161571,
     "end_time": "2022-08-11T02:31:14.331817",
     "exception": false,
     "start_time": "2022-08-11T02:31:12.170246",
     "status": "completed"
    },
    "tags": []
   },
   "outputs": [
    {
     "name": "stdout",
     "output_type": "stream",
     "text": [
      "191669.7536453626\n"
     ]
    }
   ],
   "source": [
    "from sklearn.ensemble import RandomForestRegressor\n",
    "\n",
    "forest_model = RandomForestRegressor(random_state=1)\n",
    "forest_model.fit(train_X, train_y)\n",
    "melb_preds = forest_model.predict(val_X)\n",
    "print(mean_absolute_error(val_y, melb_preds))"
   ]
  },
  {
   "cell_type": "markdown",
   "id": "92810576",
   "metadata": {
    "papermill": {
     "duration": 0.017179,
     "end_time": "2022-08-11T02:31:14.369808",
     "exception": false,
     "start_time": "2022-08-11T02:31:14.352629",
     "status": "completed"
    },
    "tags": []
   },
   "source": [
    "TIL the random forest model utilizes multiple decision trees rather than one decision tree in the decision tree model. This makes the random forest model more accurate than the individual trees making up the model."
   ]
  },
  {
   "cell_type": "markdown",
   "id": "73a6a6e1",
   "metadata": {
    "papermill": {
     "duration": 0.018129,
     "end_time": "2022-08-11T02:31:14.405525",
     "exception": false,
     "start_time": "2022-08-11T02:31:14.387396",
     "status": "completed"
    },
    "tags": []
   },
   "source": [
    "## applying random forest to the iowa dataset"
   ]
  },
  {
   "cell_type": "code",
   "execution_count": 39,
   "id": "799a2664",
   "metadata": {
    "execution": {
     "iopub.execute_input": "2022-08-11T02:31:14.444462Z",
     "iopub.status.busy": "2022-08-11T02:31:14.443574Z",
     "iopub.status.idle": "2022-08-11T02:31:14.499733Z",
     "shell.execute_reply": "2022-08-11T02:31:14.498505Z"
    },
    "papermill": {
     "duration": 0.077919,
     "end_time": "2022-08-11T02:31:14.502261",
     "exception": false,
     "start_time": "2022-08-11T02:31:14.424342",
     "status": "completed"
    },
    "tags": []
   },
   "outputs": [
    {
     "name": "stdout",
     "output_type": "stream",
     "text": [
      "Validation MAE when not specifying max_leaf_nodes: 29,653\n",
      "Validation MAE for best value of max_leaf_nodes: 27,283\n"
     ]
    }
   ],
   "source": [
    "# Path of the file to read\n",
    "iowa_file_path = '../input/home-data-for-ml-course/train.csv'\n",
    "\n",
    "home_data = pd.read_csv(iowa_file_path)\n",
    "# Create target object and call it y\n",
    "y = home_data.SalePrice\n",
    "# Create X\n",
    "features = ['LotArea', 'YearBuilt', '1stFlrSF', '2ndFlrSF', 'FullBath', 'BedroomAbvGr', 'TotRmsAbvGrd']\n",
    "X = home_data[features]\n",
    "\n",
    "# Split into validation and training data\n",
    "train_X, val_X, train_y, val_y = train_test_split(X, y, random_state=1)\n",
    "\n",
    "# Specify Model\n",
    "iowa_model = DecisionTreeRegressor(random_state=1)\n",
    "# Fit Model\n",
    "iowa_model.fit(train_X, train_y)\n",
    "\n",
    "# Make validation predictions and calculate mean absolute error\n",
    "val_predictions = iowa_model.predict(val_X)\n",
    "val_mae = mean_absolute_error(val_predictions, val_y)\n",
    "print(\"Validation MAE when not specifying max_leaf_nodes: {:,.0f}\".format(val_mae))\n",
    "\n",
    "# Using best value for max_leaf_nodes\n",
    "iowa_model = DecisionTreeRegressor(max_leaf_nodes=100, random_state=1)\n",
    "iowa_model.fit(train_X, train_y)\n",
    "val_predictions = iowa_model.predict(val_X)\n",
    "val_mae = mean_absolute_error(val_predictions, val_y)\n",
    "print(\"Validation MAE for best value of max_leaf_nodes: {:,.0f}\".format(val_mae))"
   ]
  },
  {
   "cell_type": "code",
   "execution_count": 40,
   "id": "aa2a795b",
   "metadata": {
    "execution": {
     "iopub.execute_input": "2022-08-11T02:31:14.540059Z",
     "iopub.status.busy": "2022-08-11T02:31:14.539616Z",
     "iopub.status.idle": "2022-08-11T02:31:15.028686Z",
     "shell.execute_reply": "2022-08-11T02:31:15.027318Z"
    },
    "papermill": {
     "duration": 0.511807,
     "end_time": "2022-08-11T02:31:15.032196",
     "exception": false,
     "start_time": "2022-08-11T02:31:14.520389",
     "status": "completed"
    },
    "tags": []
   },
   "outputs": [
    {
     "name": "stdout",
     "output_type": "stream",
     "text": [
      "Validation MAE for Random Forest Model: 21857.15912981083\n"
     ]
    }
   ],
   "source": [
    "# Define the model. Set random_state to 1\n",
    "rf_model = RandomForestRegressor(random_state=1)\n",
    "\n",
    "# fit your model\n",
    "rf_model.fit(train_X, train_y)\n",
    "\n",
    "# Calculate the mean absolute error of your Random Forest model on the validation data\n",
    "rf_model_predictions=rf_model.predict(val_X)\n",
    "rf_val_mae = mean_absolute_error(rf_model_predictions, val_y)\n",
    "\n",
    "print(\"Validation MAE for Random Forest Model: {}\".format(rf_val_mae))"
   ]
  },
  {
   "cell_type": "markdown",
   "id": "2981e585",
   "metadata": {
    "papermill": {
     "duration": 0.017761,
     "end_time": "2022-08-11T02:31:15.069166",
     "exception": false,
     "start_time": "2022-08-11T02:31:15.051405",
     "status": "completed"
    },
    "tags": []
   },
   "source": [
    "The random forest also performed better than the decision tree algorithm for the Iowa dataset as well, 22k vs 27k MAE, respectively."
   ]
  },
  {
   "cell_type": "markdown",
   "id": "895a5b14",
   "metadata": {
    "papermill": {
     "duration": 0.018636,
     "end_time": "2022-08-11T02:31:15.105767",
     "exception": false,
     "start_time": "2022-08-11T02:31:15.087131",
     "status": "completed"
    },
    "tags": []
   },
   "source": [
    "# kaggle house prices competition submission\n",
    "\n",
    "## while I'm at it, might as well make a submission to the competition to test out how to submit predictions\n",
    "\n",
    "find the notebook for that [here](https://www.kaggle.com/code/joshuaokolo/exercise-machine-learning-competitions/)"
   ]
  }
 ],
 "metadata": {
  "kernelspec": {
   "display_name": "Python 3",
   "language": "python",
   "name": "python3"
  },
  "language_info": {
   "codemirror_mode": {
    "name": "ipython",
    "version": 3
   },
   "file_extension": ".py",
   "mimetype": "text/x-python",
   "name": "python",
   "nbconvert_exporter": "python",
   "pygments_lexer": "ipython3",
   "version": "3.7.12"
  },
  "papermill": {
   "default_parameters": {},
   "duration": 20.368571,
   "end_time": "2022-08-11T02:31:16.049405",
   "environment_variables": {},
   "exception": null,
   "input_path": "__notebook__.ipynb",
   "output_path": "__notebook__.ipynb",
   "parameters": {},
   "start_time": "2022-08-11T02:30:55.680834",
   "version": "2.3.4"
  }
 },
 "nbformat": 4,
 "nbformat_minor": 5
}
